{
 "cells": [
  {
   "cell_type": "markdown",
   "id": "549eaa6d",
   "metadata": {},
   "source": [
    "# Team Viviane Solomon and Brandon Bonifacio\n",
    "# How We Split Up The Work: ..."
   ]
  },
  {
   "cell_type": "markdown",
   "id": "12b99cc3",
   "metadata": {},
   "source": [
    "# HW7: Train a Sequence Classifier That Can Predict if a Sentence is in English or Spanish."
   ]
  },
  {
   "cell_type": "markdown",
   "id": "480a01c0",
   "metadata": {},
   "source": [
    "The goal of this assignment is to train a sequence classifier that can predict if a sentence is in \n",
    "English or Spanish. You should use the official PyTorch documentation to build your system \n",
    "from scratch. You may use other online sources as well but must cite your sources and indicate \n",
    "clearly what portions of your code have been copied and modified from elsewhere. You may \n",
    "work individually or with a partner on this assignment.\n",
    "\n",
    "\n",
    "Each team should submit one assignment as a single jupyter notebook on Sakai. At the top of \n",
    "your notebook, please indicate both team members’ names and who did what. To speed up \n",
    "training, you may want to run your jupyter notebook in Google Colab with a GPU. Note: The \n",
    "datasets provided below are very large, and you don’t need to train on everything!\n",
    "\n",
    "In fact, as you develop your code, I would recommend using a tiny subset of data to iterate quickly, and \n",
    "wait until your code is debugged to start training on larger subsets of data. It is much better to \n",
    "have a functioning model that is trained on 1% of the data than a non-functional model that \n",
    "failed to train on 100% of the data.\n",
    "\n",
    "An additional 10 points will be graded for the organization and clarity of your notebook. Your \n",
    "notebook should read like a tutorial and be understandable to others"
   ]
  },
  {
   "cell_type": "markdown",
   "id": "d381d41c",
   "metadata": {},
   "source": [
    "## Part 1: Basic System with fixed-length inputs (65 points)"
   ]
  },
  {
   "cell_type": "markdown",
   "id": "500f5793",
   "metadata": {},
   "source": [
    "In the first part of the assignment you will do the following:\n",
    "\n",
    "\n",
    "● Prepare the data (20 points). Get two large text files: one English file (WikiText-103, \n",
    "181MB) and one Spanish file (e.g. Spanish text corpus, 155MB). Convert to lowercase \n",
    "and remove all punctuation except “.” so the data only contains alphabet characters, \n",
    "whitespace, and periods. Determine a set of unique characters and map all characters \n",
    "to integers. Split the data into train & validation sets, and split each into chunks of fixed \n",
    "length.\n",
    "\n",
    "\n",
    "● Train 1-layer model (20 Points). Define an LSTM model containing 1 LSTM layer \n",
    "followed by an output linear layer. Your model should classify a fixed-length sequence \n",
    "of characters as English or Spanish. Show your training & validation loss curves, along \n",
    "with your validation classification accuracy.\n",
    "\n",
    "\n",
    "● Experimentation (20 points). Experiment with different aspects of the model: the \n",
    "number of LSTM layers, the number of fully connected layers, the size of the hidden \n",
    "layer, etc. Train the corresponding models, compare their performance, and provide \n",
    "plots to demonstrate the effect of at least two different hyperparameters of interest.\n",
    "\n",
    "\n",
    "● Intuition (5 points). Show the output of your model for several specific sentences. Pick \n",
    "inputs that demonstrate the behavior of the system, and try to figure out what things \n",
    "the model is focusing on. Explain your intuition about what the model is doing"
   ]
  },
  {
   "cell_type": "markdown",
   "id": "c2b61763",
   "metadata": {},
   "source": [
    "## Welcome to our Tutorial for Preparing the Data! \n",
    "\n",
    "### In the cell below, we go through the process of converting the text to lowercase and removing all punctuation except \".\" so the data only contains alphabet characters, whitespace, and periods for the Spanish Sentences. We also save this locally so we don't have to do this every time we load the file.\n",
    "\n",
    "To provide an example for what we want to do with this data, we provide the first few sentences from the Spanish sentences.txt file. \n",
    "\n",
    "*la enciclopedia libre Jorge Hess De Wikipedia#\n",
    "\n",
    "*la enciclopedia libre Saltar a Jorge Hess de julio es un y cofundador de la Liga Argentina de Esperanto Hess escribió un manual para el aprendizaje de esperanto que fue editado por primera vez en y se titula Sabe Usted Esperanto#\n",
    "\n",
    "*Es uno de los más conocidos libros en español que tratan sobre el tema junto con Curso Práctico de Esperanto Ferenc Szilágyi#\n",
    "\n",
    "*el cual Hess adaptó para los en#\n",
    "\n",
    "\n",
    "## As you can see, each sentence begins with an aserisk (*), and it ends with a hashtag and a new-line character (#\\n) After this function, these sentences in the txt file should look like: \n",
    "\n",
    "la enciclopedia libre jorge hess de wikipedia\n",
    "la enciclopedia libre saltar a jorge hess de julio es un y cofundador de la liga argentina de esperanto hess escribió un manual para el aprendizaje de esperanto que fue editado por primera vez en y se titula sabe usted esperanto\n",
    "es uno de los más conocidos libros en español que tratan sobre el tema junto con curso práctico de esperanto ferenc szilágyi\n",
    "el cual hess adaptó para los en\n",
    "\n",
    "\n",
    "(note that there is a newline between each sentence, but that Jupyter Notebook combines lines that only differ by one \\n character)"
   ]
  },
  {
   "cell_type": "code",
   "execution_count": 1,
   "id": "b3c55296",
   "metadata": {},
   "outputs": [],
   "source": [
    "#Import Statements\n",
    "from tqdm import tqdm\n",
    "import string\n",
    "import torch\n",
    "from torch.optim.lr_scheduler import StepLR\n",
    "from torch import nn, optim\n",
    "\n",
    "import numpy as np\n",
    "import torch\n",
    "import torch.nn as nn\n",
    "import torch.optim as optim\n",
    "\n",
    "import matplotlib.pyplot as plt\n",
    "from torch.utils.data import Dataset, DataLoader\n"
   ]
  },
  {
   "cell_type": "code",
   "execution_count": 2,
   "id": "f0a6b3af",
   "metadata": {},
   "outputs": [
    {
     "name": "stdout",
     "output_type": "stream",
     "text": [
      "áéíóúñü áéíóúñü.\n",
      "ÁÉÍÓÚÑÜ ÁÉÍÓÚÑÜ.\n"
     ]
    }
   ],
   "source": [
    "## There is an important aspect of Spanish sentences we must consider. Python is mostly an English-based language, \n",
    "## so it is possible that Python might miss the diacriticed characters, namely é, á, í, ó, ú, ñ, and ü. However, \n",
    "## thankfully the Python devs have already thought of this, so we don't have to worry about it. However, we will continually\n",
    "## check this throughout the process to make sure this is working as intended. \n",
    "## An example of Python functions working with Spanish characters is provided in the cell below. \n",
    "\n",
    "#Example of Python working with Spanish Characters - Python can work with Spanish!\n",
    "espanol = \"ÁÉÍÓÚÑÜ áéíóúñü.\"\n",
    "print(espanol.lower())  \n",
    "print(espanol.upper())"
   ]
  },
  {
   "cell_type": "code",
   "execution_count": 3,
   "id": "14dfe95d",
   "metadata": {},
   "outputs": [
    {
     "name": "stdout",
     "output_type": "stream",
     "text": [
      "hi  my  name .... is brandón bonifacío. . . \n"
     ]
    }
   ],
   "source": [
    "#Here, we make the process helper function to process a single sentence according to the problem\n",
    "##Below, we convert the text in this file to lowercase, remove all punctuation except \".\"\n",
    "def process(sentence):\n",
    "    \"\"\"\n",
    "    Processes the given sentence string according to what the problem wants us to do:\n",
    "    - Convert all characters to lowercase.\n",
    "    - Remove all punctuation except \".\". Keep whitespace characters (\"\\n\" and \" \", idk any others)\n",
    "    \"\"\"\n",
    "    sentence = sentence.lower() #convert all characters to lowercase, O(n) time \n",
    "    \n",
    "    #We are going to make a list of allowed characters! and if it's not in it, we get rid of it\n",
    "    #the instructions say to keep only alphabetic characters, periods, and whitespaces, and that is what we will \n",
    "    #consist the allowed characters with\n",
    "    \n",
    "    #we are going to use a dictionary for O(1) lookup time\n",
    "    allowed_characters = {\n",
    "        \" \": 0,\n",
    "        \"a\": 1,\n",
    "        \"b\": 2,\n",
    "        \"c\": 3, \n",
    "        \"d\": 4,\n",
    "        \"e\": 5, \n",
    "        \"f\": 6, \n",
    "        \"g\": 7, \n",
    "        \"h\": 8, \n",
    "        \"i\": 9, \n",
    "        \"j\": 10,\n",
    "        \"k\": 11, \n",
    "        \"l\": 12,\n",
    "        \"m\": 13, \n",
    "        \"n\": 14, \n",
    "        \"o\": 15,\n",
    "        \"p\": 16,\n",
    "        \"q\": 17, \n",
    "        \"r\": 18, \n",
    "        \"s\": 19, \n",
    "        \"t\": 20, \n",
    "        \"u\": 21, \n",
    "        \"v\": 22, \n",
    "        \"w\": 23, \n",
    "        \"x\": 24, \n",
    "        \"y\": 25, \n",
    "        \"z\": 26, \n",
    "        \".\": 27, \n",
    "        \"á\": 28,\n",
    "        \"é\": 29, \n",
    "        \"í\": 30,\n",
    "        \"ó\": 31, \n",
    "        \"ú\": 32,\n",
    "        \"ñ\": 33, \n",
    "        \"ü\": 34\n",
    "        }\n",
    "    \n",
    "    processed_sentence = ''.join(char for char in sentence if char in allowed_characters)\n",
    "    return processed_sentence\n",
    "\n",
    "test_string = \"Hi #%@ my 123415#$% name ..,3453,.,.343 !is B–RAND---ÓN B31onifacío. .@#$@$--=!~234324` . \"\n",
    "print(process(test_string))"
   ]
  },
  {
   "cell_type": "code",
   "execution_count": 4,
   "id": "448f084c",
   "metadata": {},
   "outputs": [
    {
     "name": "stdout",
     "output_type": "stream",
     "text": [
      "Data processing complete!\n"
     ]
    }
   ],
   "source": [
    "## sentences.txt is our file of Spanish sentences. \n",
    "## With respect to this Jupyter Notebook's directory, this raw file is stored in (for Brandon's computer): \n",
    "## /Users\\Brandon\\Desktop\\Classes\\E208\\Homework\\E208HW7\\Data\\Raw\\Spanish/sentences.txt\n",
    "\n",
    "## After processing this data, we store it in \n",
    "## /E208/E208HW7/Data/Raw/Spanish/sentences.txt\n",
    "\n",
    "## AS AN IMPORTANT NOTE, THIS CELL SHOULD ONLY BE RUN ONCE. \n",
    "## UNCOMMENT THE COMMAND AT THE BOTTOM TO RUN IT:\n",
    "# Windows: Ctrl + / \n",
    "# Mac: Cmd + /\n",
    "\n",
    "def process_spanish_information():\n",
    "    # Path to the raw data\n",
    "    input_path = \"/Users\\Brandon\\Desktop\\Classes\\E208\\Homework\\E208HW7\\Data\\Raw\\Spanish/sentences.txt\"\n",
    "    # Path to the processed data\n",
    "    output_path = \"/Users\\Brandon\\Desktop\\Classes\\E208\\Homework\\E208HW7\\Data\\Processed\\Spanish/sentences.txt\"\n",
    "\n",
    "    #Open the input file and take out the sentences\n",
    "    #https://stackoverflow.com/questions/2081836/how-to-read-specific-lines-from-a-file-by-line-number\n",
    "    with open(input_path, \"r\") as file:\n",
    "        raw_sentences = file.readlines()\n",
    "\n",
    "    #Process each sentence\n",
    "    processed_sentences = []\n",
    "    for sentence in tqdm(raw_sentences, desc=\"Processing sentences\"):\n",
    "        if sentence.startswith('*') and sentence.endswith(\"#\\n\"): #Every sentence had a * in front of it and the end character at the end\n",
    "            processed_sentences.append(process(sentence[1:-2]))\n",
    "        else:\n",
    "            print(f\"Something went wrong! Here's the current sentence: {sentence}\")\n",
    "            raise\n",
    "\n",
    "    #Now write the processed sentences to the output file\n",
    "    with open(output_path, \"w\") as file:\n",
    "        for sentence in tqdm(processed_sentences, desc=\"Writing to file\"):\n",
    "            if not \".\" in sentence: #Add this so that each sentence has a period at the end of it if it didnt already\n",
    "                sentence += \".\"\n",
    "            if not sentence.endswith(\"\\n\"):\n",
    "                file.write(sentence + \"\\n\") #Add new line whitespace at the end of each sentence\n",
    "            else:\n",
    "                file.write(sentence)\n",
    "    return None\n",
    "\n",
    "\n",
    "#Uncomment the line below to run this. \n",
    "#Note that this information is already saved in a txt file\n",
    "#process_spanish_information()\n",
    "print(\"Data processing complete!\")"
   ]
  },
  {
   "cell_type": "markdown",
   "id": "2d120b69",
   "metadata": {},
   "source": [
    "## Now that we have processed the Spanish sentences, we move on to processing the English sentences. However, the English sentences are in .tokens files, which we can open in VSCode. To provide an example of the text in the .tokens files, I provide the first few sentences from the file below: \n",
    "\n",
    "\n",
    " = Robert Boulter = \n",
    " \n",
    " Robert Boulter is an English film , television and theatre actor . He had a guest @-@ starring role on the television series The Bill in 2000 . This was followed by a starring role in the play Herons written by Simon Stephens , which was performed in 2001 at the Royal Court Theatre . He had a guest role in the television series Judge John Deed in 2002 . In 2004 Boulter landed a role as \" Craig \" in the episode \" Teddy 's Story \" of the television series The Long Firm ; he starred alongside actors Mark Strong and Derek Jacobi . He was cast in the 2005 theatre productions of the Philip Ridley play Mercury Fur , which was performed at the Drum Theatre in Plymouth and the <unk> Chocolate Factory in London . He was directed by John Tiffany and starred alongside Ben Whishaw , Shane Zaza , Harry Kent , Fraser Ayres , Sophie Stanton and Dominic Hall . \n",
    " In 2006 , Boulter starred alongside Whishaw in the play Citizenship written by Mark Ravenhill . He appeared on a 2006 episode of the television series , Doctors , followed by a role in the 2007 theatre production of How to Curse directed by Josie Rourke . How to Curse was performed at Bush Theatre in the London Borough of Hammersmith and Fulham . Boulter starred in two films in 2008 , Daylight Robbery by filmmaker Paris <unk> , and Donkey Punch directed by Olly Blackburn . In May 2008 , Boulter made a guest appearance on a two @-@ part episode arc of the television series Waking the Dead , followed by an appearance on the television series Survivors in November 2008 . He had a recurring role in ten episodes of the television series Casualty in 2010 , as \" Kieron Fletcher \" . Boulter starred in the 2011 film Mercenaries directed by Paris <unk> . \n",
    " \n",
    " = = Career = = \n",
    " \n",
    " \n",
    " = = = 2000 – 2005 = = = \n",
    " \n",
    " In 2000 Boulter had a guest @-@ starring role on the television series The Bill ; he portrayed \" Scott Parry \" in the episode , \" In Safe Hands \" . Boulter starred as \" Scott \" in the play Herons written by Simon Stephens , which was performed in 2001 at the Royal Court Theatre . A review of Boulter 's performance in The Independent on Sunday described him as \" horribly menacing \" in the role , and he received critical reviews in The Herald , and Evening Standard . He appeared in the television series Judge John Deed in 2002 as \" <unk> Armitage \" in the episode \" Political <unk> \" , and had a role as a different character \" Toby Steele \" on The Bill . \n",
    " He had a recurring role in 2003 on two episodes of The Bill , as character \" Connor Price \" . In 2004 Boulter landed a role as \" Craig \" in the episode \" Teddy 's Story \" of the television series The Long Firm ; he starred alongside actors Mark Strong and Derek Jacobi . Boulter starred as \" Darren \" , in the 2005 theatre productions of the Philip Ridley play Mercury Fur . It was performed at the Drum Theatre in Plymouth , and the <unk> Chocolate Factory in London . He was directed by John Tiffany and starred alongside Ben Whishaw , Shane Zaza , Harry Kent , Fraser Ayres , Sophie Stanton and Dominic Hall . Boulter received a favorable review in The Daily Telegraph : \" The acting is shatteringly intense , with wired performances from Ben Whishaw ( now unrecognisable from his performance as Trevor Nunn 's Hamlet ) , Robert Boulter , Shane Zaza and Fraser Ayres . \" The Guardian noted , \" Ben Whishaw and Robert Boulter offer tenderness amid the savagery . \" \n",
    " \n",
    " = = = 2006 – present = = ="
   ]
  },
  {
   "cell_type": "markdown",
   "id": "816384f6",
   "metadata": {},
   "source": [
    "## As you can see, the formatting is a bit more complex than before. After processing, in order to format it in the same way as the spanish sentences, we want the post-processed sentences to look like this: "
   ]
  },
  {
   "cell_type": "markdown",
   "id": "c5f5e72f",
   "metadata": {},
   "source": [
    " robert boulter is an english film  television and theatre actor .\n",
    "he had a guest  starring role on the television series the bill in 2000 .\n",
    "this was followed by a starring role in the play herons written by simon stephens  which was performed in 2001 at the royal court theatre .\n",
    "he had a guest role in the television series judge john deed in 2002 .\n",
    "in 2004 boulter landed a role as  craig  in the episode  teddy s story  of the television series the long firm  he starred alongside actors mark strong and derek jacobi .\n",
    "he was cast in the 2005 theatre productions of the philip ridley play mercury fur  which was performed at the drum theatre in plymouth and the unk chocolate factory in london .\n",
    "he was directed by john tiffany and starred alongside ben whishaw  shane zaza  harry kent  fraser ayres  sophie stanton and dominic hall .\n",
    " in 2006  boulter starred alongside whishaw in the play citizenship written by mark ravenhill .\n",
    "he appeared on a 2006 episode of the television series  doctors  followed by a role in the 2007 theatre production of how to curse directed by josie rourke .\n",
    "how to curse was performed at bush theatre in the london borough of hammersmith and fulham .\n",
    "boulter starred in two films in 2008  daylight robbery by filmmaker paris unk  and donkey punch directed by olly blackburn .\n",
    "in may 2008  boulter made a guest appearance on a two  part episode arc of the television series waking the dead  followed by an appearance on the television series survivors in november 2008 .\n",
    "he had a recurring role in ten episodes of the television series casualty in 2010  as  kieron fletcher  .\n",
    "boulter starred in the 2011 film mercenaries directed by paris unk .\n",
    " in 2000 boulter had a guest  starring role on the television series the bill  he portrayed  scott parry  in the episode   in safe hands  .\n",
    "boulter starred as  scott  in the play herons written by simon stephens  which was performed in 2001 at the royal court theatre .\n",
    "a review of boulter s performance in the independent on sunday described him as  horribly menacing  in the role  and he received critical reviews in the herald  and evening standard .\n",
    "he appeared in the television series judge john deed in 2002 as  unk armitage  in the episode  political unk   and had a role as a different character  toby steele  on the bill .\n",
    " he had a recurring role in 2003 on two episodes of the bill  as character  connor price  .\n",
    "in 2004 boulter landed a role as  craig  in the episode  teddy s story  of the television series the long firm  he starred alongside actors mark strong and derek jacobi .\n",
    "boulter starred as  darren   in the 2005 theatre productions of the philip ridley play mercury fur .\n",
    "it was performed at the drum theatre in plymouth  and the unk chocolate factory in london .\n",
    "he was directed by john tiffany and starred alongside ben whishaw  shane zaza  harry kent  fraser ayres  sophie stanton and dominic hall .\n",
    "boulter received a favorable review in the daily telegraph   the acting is shatteringly intense  with wired performances from ben whishaw  now unrecognisable from his performance as trevor nunn s hamlet   robert boulter  shane zaza and fraser ayres .\n",
    " the guardian noted   ben whishaw and robert boulter offer tenderness amid the savagery ."
   ]
  },
  {
   "cell_type": "markdown",
   "id": "7dac0e5c",
   "metadata": {},
   "source": [
    "## To format this, we're going to follow the same approach as with the Spanish sentences, except we're going to take extra steps to get rid of inconsistent spacing or sentences that begin with a \"=\" because these aren't sentences. We need to take this extra step because the english sentences are plagued with inconsistent formats like these. "
   ]
  },
  {
   "cell_type": "code",
   "execution_count": 5,
   "id": "bebcbcea",
   "metadata": {},
   "outputs": [
    {
     "name": "stdout",
     "output_type": "stream",
     "text": [
      "Data processing complete!\n"
     ]
    }
   ],
   "source": [
    "##Note: This should only be run once, so uncomment the command at the bottom when we need to make a new sentences.txt file\n",
    "\n",
    "\n",
    "def process_english_sentences():\n",
    "\n",
    "    # Path to the raw data\n",
    "    input_path = \"/Users\\Brandon\\Desktop\\Classes\\E208\\Homework\\E208HW7\\Data\\Raw\\English/\"\n",
    "    # And the files we gotta process:\n",
    "    files = [\"wiki.test.tokens\", \"wiki.train.tokens\", \"wiki.valid.tokens\"]\n",
    "    # Path to the processed data\n",
    "    output_path = \"/Users\\Brandon\\Desktop\\Classes\\E208\\Homework\\E208HW7\\Data\\Processed\\English/sentences.txt\"\n",
    "\n",
    "    #Open the input file and take out the sentences\n",
    "    #https://stackoverflow.com/questions/2081836/how-to-read-specific-lines-from-a-file-by-line-number\n",
    "    raw_sentences = []\n",
    "    #Add the lines through each file to a single list\n",
    "    for file in files:\n",
    "        #As a note, we have to use utf-8 here because it works better than regular open:\n",
    "        #https://stackoverflow.com/questions/36303919/what-encoding-does-open-use-by-default\n",
    "        with open(input_path +file, \"r\", encoding='utf-8') as reading_file:\n",
    "            sentences = reading_file.readlines() #initially split it by lines, this will allow us to skip \"=\" lines\n",
    "            for sentence in tqdm(sentences, desc=\"Going through sentences for \" + file): #go through each sentence\n",
    "                if len(sentence) > 3: #only keep sentences that aren't newlines and are actually sentences\n",
    "                    if sentence[0] != \"=\" and sentence[0:2] != \" =\": #We don't want to keep the \"=\" lines\n",
    "                        real_sentences = sentence.split(\". \") #Once we have the sentences now, split by periods\n",
    "                        for real_sentence in real_sentences: #Go through each sentence we have now\n",
    "                            real_sentence = real_sentence.replace(\"<unk>\", \"\") #remove this annoying string that's EVERYWHERE in the data\n",
    "                            real_sentence = real_sentence.replace(\"  \", \" \") #replace double spaces\n",
    "                            real_sentence = real_sentence.replace(\" .\", \".\") #get rid of spaces before periods\n",
    "                            raw_sentences.append(real_sentence + \".\") #add the period back\n",
    "\n",
    "\n",
    "    #Process each sentence\n",
    "    processed_sentences = []\n",
    "    for sentence in tqdm(raw_sentences, desc=\"Processing sentences\"):\n",
    "        if len(sentence) > 1: #We only want nonzero sentences\n",
    "            if sentence[0:2] != \" =\": #We don't want the sentences that start with an \" =\" as shown above\n",
    "                processed_sentence = process(sentence)\n",
    "                if len(processed_sentence) > 5: #5 is the shortest sentence possible in English with periods and spaces\n",
    "                    #We needed to do the extra check to make sure its nonzero after processing because processing removes\n",
    "                    #characters\n",
    "                    processed_sentences.append(processed_sentence)\n",
    "\n",
    "    #Now write the processed sentences to the output file\n",
    "    with open(output_path, \"w\", encoding = 'utf-8') as file:\n",
    "        for sentence in tqdm(processed_sentences, desc=\"Writing to file\"):\n",
    "            file.write(sentence + \"\\n\") #Add new line whitespace at the end of each sentence, in same structure as espanol\n",
    "\n",
    "    return None\n",
    "\n",
    "#Uncomment this to make the txt file\n",
    "#process_english_sentences()\n",
    "\n",
    "print(\"Data processing complete!\")"
   ]
  },
  {
   "cell_type": "markdown",
   "id": "cb0ddd67",
   "metadata": {},
   "source": [
    "## Now that we have processed the data as required by the problem, we now determine a set of unique characters and map all characters to integers. Because the problem stated that each sentence should only consist of alphabet characters, whitespace, and periods, we only include these in the unique character map. We also don't include the newline whitespace character because, as per the way we designed the sentences to be separated, the newline character is only used to separate the sentences in the txt files. \n",
    "\n",
    "\n",
    "## Then, we make the training and validation sets. For now, we'll only analyze 0.1% of the data until we get a full model working."
   ]
  },
  {
   "cell_type": "code",
   "execution_count": 6,
   "id": "c357df36",
   "metadata": {},
   "outputs": [
    {
     "name": "stdout",
     "output_type": "stream",
     "text": [
      "[16, 5, 18, 18, 25, 0, 20, 8, 5, 0, 16, 12, 1, 20, 1, 16, 21, 19, 27, 0, 17, 21, 5, 18, 15, 0, 9, 18, 0, 1, 12, 0, 2, 1, 14, 15, 0, 0, 0, 0, 0, 0, 0, 0, 0, 0, 0, 0, 0, 0, 0, 0, 0, 0, 0, 0, 0, 0, 0, 0, 0, 0, 0, 0, 0, 0, 0, 0, 0, 0, 0, 0, 0, 0, 0, 0, 0, 0, 0, 0, 0, 0, 0, 0, 0, 0, 0, 0, 0, 0, 0, 0, 0, 0, 0, 0, 0, 0, 0, 0]\n"
     ]
    }
   ],
   "source": [
    "unique_character_map = {\n",
    "    \" \": 0,\n",
    "    \"a\": 1,\n",
    "    \"b\": 2,\n",
    "    \"c\": 3, \n",
    "    \"d\": 4,\n",
    "    \"e\": 5, \n",
    "    \"f\": 6, \n",
    "    \"g\": 7, \n",
    "    \"h\": 8, \n",
    "    \"i\": 9, \n",
    "    \"j\": 10,\n",
    "    \"k\": 11, \n",
    "    \"l\": 12,\n",
    "    \"m\": 13, \n",
    "    \"n\": 14, \n",
    "    \"o\": 15,\n",
    "    \"p\": 16,\n",
    "    \"q\": 17, \n",
    "    \"r\": 18, \n",
    "    \"s\": 19, \n",
    "    \"t\": 20, \n",
    "    \"u\": 21, \n",
    "    \"v\": 22, \n",
    "    \"w\": 23, \n",
    "    \"x\": 24, \n",
    "    \"y\": 25, \n",
    "    \"z\": 26, \n",
    "    \".\": 27, \n",
    "    \"á\": 28,\n",
    "    \"é\": 29, \n",
    "    \"í\": 30,\n",
    "    \"ó\": 31, \n",
    "    \"ú\": 32,\n",
    "    \"ñ\": 33, \n",
    "    \"ü\": 34\n",
    "}\n",
    "\n",
    "#We make a helper function to convert a sentence to a fixed length and also map it to the integer map\n",
    "def convert_sentence_to_fixed_length(sentence, length=100):\n",
    "    # Convert each character to its integer representation\n",
    "    sequence = [unique_character_map[char] for char in sentence if char in unique_character_map]\n",
    "    # If shorter than required length, pad with zeros\n",
    "    while len(sequence) < length:\n",
    "        sequence.append(0)\n",
    "    # If longer, trim it\n",
    "    return sequence[:length]\n",
    "print(convert_sentence_to_fixed_length(\"perry the platapus. quero ir al bano\"))"
   ]
  },
  {
   "cell_type": "code",
   "execution_count": 7,
   "id": "ba4a84ca",
   "metadata": {},
   "outputs": [],
   "source": [
    "def get_train_val_loaders(dataset_proportion = 0.001, val_split = 0.3, batch_size=1024, num_workers=0):\n",
    "    \"\"\"\n",
    "    This helper function will create our Validation and Training loaders as \n",
    "    specified in problem 1. \n",
    "    \n",
    "    \"\"\"\n",
    "\n",
    "    #Data/EnglishSentences.txt\n",
    "    english_file = \"Data/EnglishSentences.txt\"\n",
    "    #english_file = \"/Users\\Brandon\\Desktop\\Classes\\E208\\Homework\\E208HW7\\Data\\Processed\\English/sentences.txt\"\n",
    "    #spanish_file = \"/Users\\Brandon\\Desktop\\Classes\\E208\\Homework\\E208HW7\\Data\\Processed\\Spanish/sentences.txt\"\n",
    "    spanish_file = \"Data/ProcessedSpanishSentences.txt\"\n",
    "    \n",
    "    print(\"Reading the files.\")\n",
    "    with open(english_file, 'r', encoding='utf-8') as file:\n",
    "        english_sentences = file.readlines()\n",
    "\n",
    "    with open(spanish_file, 'r') as file:\n",
    "        spanish_sentences = file.readlines()\n",
    "\n",
    "    #Specify how much of the data we're using\n",
    "    english_subset_size = int(dataset_proportion * len(english_sentences))\n",
    "    spanish_subset_size = int(dataset_proportion * len(spanish_sentences))\n",
    "\n",
    "    english_subset = english_sentences[:english_subset_size]\n",
    "    spanish_subset = spanish_sentences[:spanish_subset_size]\n",
    "\n",
    "    # Split the subset into training and validation\n",
    "    english_train_size = int((1-val_split) * english_subset_size)\n",
    "    spanish_train_size = int((1-val_split) * spanish_subset_size)\n",
    "\n",
    "    train_sentences = english_subset[:english_train_size] + spanish_subset[:spanish_train_size]\n",
    "    train_labels = [0] * english_train_size + [1] * spanish_train_size\n",
    "\n",
    "    validation_sentences = english_subset[english_train_size:] + spanish_subset[spanish_train_size:]\n",
    "    validation_labels = [0] * (english_subset_size - english_train_size) + [1] * (spanish_subset_size - spanish_train_size)\n",
    "\n",
    "    train_data = [convert_sentence_to_fixed_length(sentence) for sentence in tqdm(train_sentences, \"Training\")]\n",
    "    validation_data = [convert_sentence_to_fixed_length(sentence) for sentence in tqdm(validation_sentences, \"Validation\")]\n",
    "    \n",
    "    \n",
    "    #Now that we have lists of our training and validation data, we will convert them to the super useful \n",
    "    #DataLoader class from Pytorch that allows us to use batch training and makes our life easier. \n",
    "    \n",
    "    #HOW TO MAKE OUR TRAIN_DATASET (primary resource used):\n",
    "    #https://pytorch.org/tutorials/beginner/basics/data_tutorial.html?ref=mlnuggets.digitalpress.blog\n",
    "                          \n",
    "    #In order to make train_dataset and val_dataset, we need to make objects that have specific properties that \n",
    "    #PyTorch is looking for, i.e.: \n",
    "    class CustomDataset(Dataset):\n",
    "        def __init__(self, sentences, labels):\n",
    "            #Need to put everything in tensors so we can put it on a gpu later\n",
    "            self.sentences = torch.tensor(sentences)\n",
    "            self.labels = torch.tensor(labels)\n",
    "\n",
    "        def __len__(self):\n",
    "            return len(self.sentences)\n",
    "\n",
    "        def __getitem__(self, index):\n",
    "            #here we return the sentence and whether it is English or Espanol\n",
    "            return self.sentences[index], self.labels[index]               \n",
    "    \n",
    "    #now we can make our custom data object for the DataLoader\n",
    "    train_dataset = CustomDataset(train_data, train_labels)\n",
    "    val_dataset = CustomDataset(validation_data, validation_labels)\n",
    "    \n",
    "    #copy over from HW6\n",
    "    train_loader = torch.utils.data.DataLoader(train_dataset, batch_size=batch_size, shuffle=True, num_workers=num_workers)\n",
    "    val_loader = torch.utils.data.DataLoader(val_dataset, batch_size=batch_size, shuffle=True, num_workers=num_workers)\n",
    "    \n",
    "    return train_loader, val_loader\n"
   ]
  },
  {
   "cell_type": "code",
   "execution_count": 8,
   "id": "e4434b62",
   "metadata": {},
   "outputs": [
    {
     "name": "stdout",
     "output_type": "stream",
     "text": [
      "Reading the files.\n"
     ]
    },
    {
     "name": "stderr",
     "output_type": "stream",
     "text": [
      "Training: 100%|█████████████████████████████████████████████████████████████████| 7017/7017 [00:00<00:00, 17446.92it/s]\n",
      "Validation: 100%|██████████████████████████████████████████████████████████████| 3008/3008 [00:00<00:00, 105809.11it/s]\n"
     ]
    }
   ],
   "source": [
    "# DataLoader\n",
    "dataset_proportion = 0.001\n",
    "val_split = 0.3\n",
    "batch_size = 1024\n",
    "num_workers = 0\n",
    "train_loader, val_loader = get_train_val_loaders(dataset_proportion, val_split, batch_size, num_workers)\n"
   ]
  },
  {
   "cell_type": "markdown",
   "id": "821f00f3",
   "metadata": {},
   "source": [
    "# SUMMARY OF PART 1:\n",
    "### In Part 1, we preprocessed the dataset so that it only consisted of lowercase letters, whitespaces, and periods. Then, we made a unique character map and made a validation and training dataset using the DataLoader class, and we also padded each sentence so that all sentences have a length of 100 characters. "
   ]
  },
  {
   "cell_type": "markdown",
   "id": "1dad4d40",
   "metadata": {},
   "source": [
    "# Training a LSTM (20 Points)\n",
    "\n",
    "Here, we do the following: Define an LSTM model containing 1 LSTM layer \n",
    "followed by an output linear layer. Your model should classify a fixed-length sequence \n",
    "of characters as English or Spanish. Show your training & validation loss curves, along \n",
    "with your validation classification accuracy.\n",
    "\n",
    "\n",
    "\n",
    "### Below, we define our 1-Layer LSTM Model as specified in the problem. "
   ]
  },
  {
   "cell_type": "code",
   "execution_count": 9,
   "id": "82651ba7",
   "metadata": {},
   "outputs": [],
   "source": [
    "class LSTM_1Layer(nn.Module):\n",
    "    #This is our LSTM with 1 later followed by an output layer\n",
    "    #This classifies a fixed-length (100 length) sequence of characters as English or Spanish\n",
    "    def __init__(self, num_embeddings, embedding_dim, hidden_dim, dropout=0.5):\n",
    "        super(LSTM_1Layer, self).__init__()\n",
    "        self.num_lstm_layers = 1\n",
    "        #We follow the structure of lecture's LSTM here\n",
    "        \n",
    "        \n",
    "        #https://pytorch.org/docs/stable/generated/torch.nn.Embedding.html\n",
    "        #Embedding layer as described in lecture\n",
    "        self.emb = nn.Embedding(num_embeddings = num_embeddings, #This is the length of our dictionary\n",
    "                           embedding_dim = embedding_dim) #Size of embedding vector (our choice)\n",
    "        \n",
    "        #https://pytorch.org/docs/stable/generated/torch.nn.LSTM.html\n",
    "        #LSTM has following Form:\n",
    "        #nn.LSTM(embedding_dim, hidden_dim, n_layers, batch_first=True, dropout=drop_prob)\n",
    "        self.lstm = nn.LSTM(embedding_dim, #The input is the output of the embedding\n",
    "                            hidden_dim, #Hidden dimension parameter to change\n",
    "                            1, # 1 Layer LSTM Model - will change in future\n",
    "                            #batch_first=True, #interesting param, breaks everything\n",
    "                            dropout=dropout) #Dropout probability\n",
    "        \n",
    "        \n",
    "        self.out = nn.Linear(hidden_dim, 1) #Takes in hidden_dim, doesn't use sigmoid? output is 1 dimensional\n",
    "        \n",
    "        \n",
    "        \n",
    "    def forward(self, inp, state_in):  #inp is batch x seq. state_in is (h_n, c_n)\n",
    "        #Following the structure given in lecture\n",
    "        embeds = self.emb(inp) #embeds is batch x seq x emb_dim\n",
    "        embeds_swapped = embeds.permute(1,0,2) #seq x batch x batch_dim\n",
    "        lstm_out, state_out = self.lstm(embeds_swapped, state_in) #lstm_out is seq x batch x hidden\n",
    "        #state_out is (h_n, c_n)\n",
    "        scores = self.out(lstm_out) #scores is seq x batch x numclasses\n",
    "        scores_swapped = scores.permute(1, 0,2) #batch x seq x numclasses\n",
    "        return scores_swapped, state_out #\n",
    "        \n",
    "        \n",
    "        #no sigmoid?\n"
   ]
  },
  {
   "cell_type": "markdown",
   "id": "aff77e7d",
   "metadata": {},
   "source": [
    "## In the cell below, we train our LSTM model using a similar function to the one we made in HW6, and we also show our validation and training curves. We were able to get a pretty high accuracy!"
   ]
  },
  {
   "cell_type": "code",
   "execution_count": 8,
   "id": "c901d27b",
   "metadata": {},
   "outputs": [],
   "source": [
    "def better_finetune(model, train_loader, val_loader, learning_rate, num_epochs, L2, momentum1, momentum2, device):\n",
    "    \"\"\"\n",
    "    \n",
    "    Trains the given model on the train and val loader data, and returns the trained model as well as the losses\n",
    "    and final validation accuracy.\n",
    "    \n",
    "    \"\"\"\n",
    "    \n",
    "    #Put it on our device\n",
    "    model = model.to(device)\n",
    "\n",
    "    #Use Binary Cross Entropy loss because it is a binary classification problem\n",
    "    criterion =  nn.BCELoss()\n",
    "    #https://stackoverflow.com/questions/53628622/loss-function-its-inputs-for-binary-classification-pytorch\n",
    "\n",
    "    \n",
    "    #New optimizer\n",
    "    #https://stats.stackexchange.com/questions/265400/deep-learning-how-does-beta-1-and-beta-2-in-the-adam-optimizer-affect-its-lear\n",
    "    optimizer = optim.Adam(model.parameters(), lr=learning_rate, weight_decay=L2, betas = (momentum1, momentum2))\n",
    "    scheduler = StepLR(optimizer, step_size=5, gamma=0.1) #every 5 epochs, learning rate gets multiplied by 0.1\n",
    "    #optimizer = optim.Adam(model.parameters(), lr=learning_rate) #me and my homies love Adam\n",
    "    #https://pytorch.org/docs/stable/generated/torch.optim.Adam.html\n",
    "\n",
    "    hist = {'train': [], 'val': []} # History of training and validation losses\n",
    "    \n",
    "    \n",
    "    for epoch in tqdm(range(num_epochs), desc=\"Training Epoch\"):\n",
    "        model.train() #Training mode\n",
    "        total_loss = 0.0\n",
    "        for inputs, labels in train_loader:\n",
    "            #put stuff on device\n",
    "            inputs = inputs.to(device)\n",
    "            labels = labels.to(device)\n",
    "            \n",
    "            #we need to initialize our state - different from hw6\n",
    "            batch_size = inputs.size(0)\n",
    "            hidden_size = model.lstm.hidden_size\n",
    "            h0 = torch.zeros(model.num_lstm_layers, batch_size, hidden_size).to(device)\n",
    "            c0 = torch.zeros(model.num_lstm_layers, batch_size, hidden_size).to(device)\n",
    "            state_in = (h0, c0)\n",
    "            \n",
    "            \n",
    "            \n",
    "            #zero the optimizer\n",
    "            optimizer.zero_grad()\n",
    "            \n",
    "            #get the outputs and get the loss, backward prop\n",
    "            #have to do some extra work because LSTM doesn't have sigmoid for some reason\n",
    "            outputs, state_out = model(inputs, state_in)\n",
    "            outputs = outputs[:, -1, :].squeeze() #we only need the labels\n",
    "            labels = labels.float() #we need the labels to be a float for the criterion\n",
    "            outputs = torch.sigmoid(outputs) #outputs need to be between 0 and 1\n",
    "            loss = criterion(outputs, labels)  # You may need to squeeze the outputs tensor\n",
    "            loss.backward()\n",
    "            \n",
    "            #step the otpimizer\n",
    "            optimizer.step()\n",
    "            \n",
    "            #add to the loss\n",
    "            total_loss += loss.item()\n",
    "\n",
    "        avg_train_loss = total_loss / len(train_loader)\n",
    "        hist['train'].append(avg_train_loss)\n",
    "\n",
    "        # Validation mode now\n",
    "        model.eval()\n",
    "        total_loss = 0.0\n",
    "        \n",
    "        #keep track of correct labels so we can get the val accuracy\n",
    "        correct = 0\n",
    "        total = 0\n",
    "        with torch.no_grad():\n",
    "            for inputs, labels in val_loader:\n",
    "                inputs = inputs.to(device)\n",
    "                labels = labels.to(device)\n",
    "\n",
    "                #we need to initialize our state - different from hw6\n",
    "                batch_size = inputs.size(0)\n",
    "                hidden_size = model.lstm.hidden_size\n",
    "                h0 = torch.zeros(model.num_lstm_layers, batch_size, hidden_size).to(device)\n",
    "                c0 = torch.zeros(model.num_lstm_layers, batch_size, hidden_size).to(device)\n",
    "                state_in = (h0, c0)\n",
    "\n",
    "                \n",
    "                #Now, we calculate the predictions of the model and get our loss\n",
    "                #once again, because the model doesn't have a sigmoid, we have to do some more work\n",
    "                outputs, _ = model(inputs, state_in)\n",
    "                outputs = outputs[:, -1, :].squeeze() #we only need the labels\n",
    "                labels = labels.float() #we need the labels to be a float\n",
    "                outputs = torch.sigmoid(outputs) #outputs need to be between 0 and 1\n",
    "                loss = criterion(outputs, labels)\n",
    "                total_loss += loss.item()\n",
    "\n",
    "                \n",
    "                #get the predicted labels from the softmax\n",
    "                predicted = (outputs > 0.5).float() \n",
    "                \n",
    "                #keep track of our accuracy\n",
    "                total += labels.size(0)\n",
    "                correct += (predicted == labels).sum().item()\n",
    "\n",
    "                \n",
    "        #calculate avg loss and accuracies\n",
    "        avg_val_loss = total_loss / len(val_loader)\n",
    "        hist['val'].append(avg_val_loss)\n",
    "        val_accuracy = 100 * correct / total\n",
    "        \n",
    "        #print the progress\n",
    "        print(f'Epoch [{epoch+1}/{num_epochs}], Training Loss: {avg_train_loss:.4f}, Validation Loss: {avg_val_loss:.4f}, Validation Accuracy: {val_accuracy:.2f}%')\n",
    "\n",
    "        #missed this in hw6 - we need to step the scheduler!\n",
    "        scheduler.step()\n",
    "\n",
    "    return model, hist, val_accuracy\n"
   ]
  },
  {
   "cell_type": "code",
   "execution_count": 14,
   "id": "b38bcf0f",
   "metadata": {},
   "outputs": [
    {
     "name": "stdout",
     "output_type": "stream",
     "text": [
      "Reading the files.\n"
     ]
    },
    {
     "name": "stderr",
     "output_type": "stream",
     "text": [
      "Training: 100%|█████████████████████████████████████████████████████████████| 350905/350905 [00:04<00:00, 75719.22it/s]\n",
      "Validation: 100%|███████████████████████████████████████████████████████████| 150388/150388 [00:01<00:00, 81515.09it/s]\n"
     ]
    }
   ],
   "source": [
    "#Dataset Parameters\n",
    "dataset_proportion = 0.05\n",
    "val_split = 0.3\n",
    "batch_size = 10240\n",
    "num_workers = 0\n",
    "train_loader, val_loader = get_train_val_loaders(dataset_proportion, val_split, batch_size, num_workers)"
   ]
  },
  {
   "cell_type": "code",
   "execution_count": 17,
   "id": "917d51e7",
   "metadata": {},
   "outputs": [
    {
     "name": "stdout",
     "output_type": "stream",
     "text": [
      "My device is cpu\n"
     ]
    },
    {
     "name": "stderr",
     "output_type": "stream",
     "text": [
      "Training Epoch:  20%|█████████████▍                                                     | 1/5 [02:55<11:42, 175.59s/it]"
     ]
    },
    {
     "name": "stdout",
     "output_type": "stream",
     "text": [
      "Epoch [1/5], Training Loss: 0.4236, Validation Loss: 0.0585, Validation Accuracy: 98.57%\n"
     ]
    },
    {
     "name": "stderr",
     "output_type": "stream",
     "text": [
      "Training Epoch:  40%|██████████████████████████▊                                        | 2/5 [05:54<08:53, 177.81s/it]"
     ]
    },
    {
     "name": "stdout",
     "output_type": "stream",
     "text": [
      "Epoch [2/5], Training Loss: 0.0277, Validation Loss: 0.0187, Validation Accuracy: 99.55%\n"
     ]
    },
    {
     "name": "stderr",
     "output_type": "stream",
     "text": [
      "Training Epoch:  60%|████████████████████████████████████████▏                          | 3/5 [08:53<05:56, 178.23s/it]"
     ]
    },
    {
     "name": "stdout",
     "output_type": "stream",
     "text": [
      "Epoch [3/5], Training Loss: 0.0140, Validation Loss: 0.0137, Validation Accuracy: 99.70%\n"
     ]
    },
    {
     "name": "stderr",
     "output_type": "stream",
     "text": [
      "Training Epoch:  80%|█████████████████████████████████████████████████████▌             | 4/5 [11:51<02:58, 178.04s/it]"
     ]
    },
    {
     "name": "stdout",
     "output_type": "stream",
     "text": [
      "Epoch [4/5], Training Loss: 0.0102, Validation Loss: 0.0118, Validation Accuracy: 99.67%\n"
     ]
    },
    {
     "name": "stderr",
     "output_type": "stream",
     "text": [
      "Training Epoch: 100%|███████████████████████████████████████████████████████████████████| 5/5 [14:51<00:00, 178.26s/it]"
     ]
    },
    {
     "name": "stdout",
     "output_type": "stream",
     "text": [
      "Epoch [5/5], Training Loss: 0.0088, Validation Loss: 0.0086, Validation Accuracy: 99.77%\n"
     ]
    },
    {
     "name": "stderr",
     "output_type": "stream",
     "text": [
      "\n"
     ]
    }
   ],
   "source": [
    "#Model Parameters\n",
    "num_embeddings = len(unique_character_map) #for embedding layer\n",
    "embedding_dim = 64 #I choose this - dimension for embedding layer\n",
    "hidden_dim = 128 #Parameter - hidden dimensions\n",
    "dropout = 0.5\n",
    "model = LSTM_1Layer(num_embeddings = num_embeddings,\n",
    "                 embedding_dim = embedding_dim,\n",
    "                 hidden_dim = hidden_dim,\n",
    "                 dropout = dropout)\n",
    "\n",
    "#Training Parameters\n",
    "learning_rate = 0.02\n",
    "L2 = 0#0.0001\n",
    "num_epochs = 5\n",
    "momentum1 = 0.9\n",
    "momentum2 = 0.999\n",
    "device = torch.device(\"cuda:0\" if torch.cuda.is_available() else \"cpu\")\n",
    "print(f\"My device is {device}\")\n",
    "trained_model, history, final_val_accuracy = better_finetune(model,\n",
    "                                                             train_loader,\n",
    "                                                             val_loader,\n",
    "                                                             learning_rate=learning_rate,\n",
    "                                                             num_epochs=num_epochs,\n",
    "                                                             L2=L2,\n",
    "                                                             momentum1=momentum1,\n",
    "                                                             momentum2=momentum2,\n",
    "                                                             device = device)\n",
    "\n"
   ]
  },
  {
   "cell_type": "code",
   "execution_count": 18,
   "id": "ea22deaa",
   "metadata": {},
   "outputs": [],
   "source": [
    "def plot_history(hist):\n",
    "    epochs = range(1, len(hist['train']) + 1)\n",
    "\n",
    "    # Plot training and validation loss\n",
    "    plt.figure(figsize=(12, 6))\n",
    "    plt.plot(epochs, hist['train'], 'b', label='Training loss')\n",
    "    plt.plot(epochs, hist['val'], 'r', label='Validation loss')\n",
    "    plt.title('Training and Validation Loss')\n",
    "    plt.xlabel('Epochs')\n",
    "    plt.ylabel('Loss')\n",
    "    plt.legend()\n",
    "\n",
    "    plt.show()"
   ]
  },
  {
   "cell_type": "code",
   "execution_count": 19,
   "id": "31a76956",
   "metadata": {},
   "outputs": [
    {
     "data": {
      "image/png": "[encoded data removed]",
      "text/plain": [
       "<Figure size 1200x600 with 1 Axes>"
      ]
     },
     "metadata": {},
     "output_type": "display_data"
    }
   ],
   "source": [
    "plot_history(history)"
   ]
  },
  {
   "cell_type": "markdown",
   "id": "546699d1",
   "metadata": {},
   "source": [
    "# As shown above, we have successfully trained a model that got 99.77% accuracy trained on 5% on the dataset. 5% is the maximum proportion of the dataset we can use because of the memory constraint on the computer we are using.  "
   ]
  },
  {
   "cell_type": "markdown",
   "id": "780a2db6",
   "metadata": {},
   "source": [
    "# Experimentation  (20 points). Experiment with different aspects of the model: the number of LSTM layers, the number of fully connected layers, the size of the hidden layer, etc. Train the corresponding models, compare their performance, and provide plots to demonstrate the effect of at least two different hyperparameters of interest.\n"
   ]
  },
  {
   "cell_type": "markdown",
   "id": "0e1e8e0e",
   "metadata": {},
   "source": [
    "### Below, I make a new model we can use for tuning purposes\n",
    "\n",
    "### For evaluating multiple models, we will only use 0.1% of the dataset to speed things up."
   ]
  },
  {
   "cell_type": "code",
   "execution_count": 10,
   "id": "429ba708",
   "metadata": {},
   "outputs": [],
   "source": [
    "class LSTM_Tune(nn.Module):\n",
    "    #This is our LSTM with 1 later followed by an output layer\n",
    "    #This classifies a fixed-length (100 length) sequence of characters as English or Spanish\n",
    "    def __init__(self, num_embeddings, embedding_dim, hidden_dim, dropout=0.5, num_lstm_layers = 1, num_fc_layers = 1):\n",
    "        super(LSTM_Tune, self).__init__()\n",
    "        #We follow the structure of lecture's LSTM here\n",
    "        self.num_lstm_layers = num_lstm_layers\n",
    "        \n",
    "        \n",
    "        #https://pytorch.org/docs/stable/generated/torch.nn.Embedding.html\n",
    "        #Embedding layer as described in lecture\n",
    "        self.emb = nn.Embedding(num_embeddings = num_embeddings, #This is the length of our dictionary\n",
    "                           embedding_dim = embedding_dim) #Size of embedding vector (our choice)\n",
    "        \n",
    "        #https://pytorch.org/docs/stable/generated/torch.nn.LSTM.html\n",
    "        #LSTM has following Form:\n",
    "        #nn.LSTM(embedding_dim, hidden_dim, n_layers, batch_first=True, dropout=drop_prob)\n",
    "        self.lstm = nn.LSTM(embedding_dim, #The input is the output of the embedding\n",
    "                            hidden_dim, #Hidden dimension parameter to change\n",
    "                            num_lstm_layers, # Variable number of layers #setting this to NOT 1 breaks things\n",
    "                            #batch_first=True, #interesting param, breaks everything\n",
    "                            dropout=dropout) #Dropout probability\n",
    "        \n",
    "        \n",
    "        \n",
    "        # Adding variable number of FC layers\n",
    "        self.fcs = nn.ModuleList()\n",
    "        for _ in range(num_fc_layers - 1):\n",
    "            self.fcs.append(nn.Linear(hidden_dim, hidden_dim))\n",
    "        \n",
    "        \n",
    "        \n",
    "        self.out = nn.Linear(hidden_dim, 1) #Takes in hidden_dim, doesn't use sigmoid? output is 1 dimensional\n",
    "        \n",
    "    def forward(self, inp, state_in):  #inp is batch x seq. state_in is (h_n, c_n)\n",
    "        #Following the structure given in lecture\n",
    "        embeds = self.emb(inp) #embeds is batch x seq x emb_dim\n",
    "        embeds_swapped = embeds.permute(1,0,2) #seq x batch x batch_dim\n",
    "        lstm_out, state_out = self.lstm(embeds_swapped, state_in) #lstm_out is seq x batch x hidden\n",
    "        #state_out is (h_n, c_n)\n",
    "        scores = self.out(lstm_out) #scores is seq x batch x numclasses\n",
    "        scores_swapped = scores.permute(1, 0,2) #batch x seq x numclasses\n",
    "        return scores_swapped, state_out #\n",
    "        \n",
    "        \n",
    "        #no sigmoid?\n"
   ]
  },
  {
   "cell_type": "code",
   "execution_count": 9,
   "id": "18540f72",
   "metadata": {},
   "outputs": [
    {
     "name": "stdout",
     "output_type": "stream",
     "text": [
      "Reading the files.\n"
     ]
    },
    {
     "name": "stderr",
     "output_type": "stream",
     "text": [
      "Training: 100%|█████████████████████████████████████████████████████████████████| 7017/7017 [00:00<00:00, 31283.51it/s]\n",
      "Validation: 100%|███████████████████████████████████████████████████████████████| 3008/3008 [00:00<00:00, 15896.86it/s]\n"
     ]
    },
    {
     "name": "stdout",
     "output_type": "stream",
     "text": [
      "My device is cpu\n",
      "Tuning Complete\n"
     ]
    }
   ],
   "source": [
    "#Here is the code where we will test out a lot of different model architectures\n",
    "\n",
    "#Dataset Parameters\n",
    "dataset_proportion = 0.001\n",
    "val_split = 0.3\n",
    "batch_size = 1024\n",
    "num_workers = 0\n",
    "train_loader, val_loader = get_train_val_loaders(dataset_proportion, val_split, batch_size, num_workers)\n",
    "\n",
    "#Training Parameters\n",
    "learning_rate = 0.02\n",
    "L2 = 0#0.0001\n",
    "num_epochs = 10\n",
    "momentum1 = 0.9\n",
    "momentum2 = 0.999\n",
    "device = torch.device(\"cuda:0\" if torch.cuda.is_available() else \"cpu\")\n",
    "print(f\"My device is {device}\")\n",
    "\n",
    "\n",
    "#Now we cycle through many different models and add their results to the results list\n",
    "lstm_layers = [1, 2, 3]\n",
    "hidden_sizes = [64, 128, 256]\n",
    "fc_layers = [1, 2, 3]\n",
    "results = []\n",
    "\n",
    "#ONLY NEED TO PERFORM OPTIMIZATION ONCE, SAVE RESULTS\n",
    "perform_tuning = False\n",
    "if perform_tuning:\n",
    "    for n_lstm in lstm_layers:\n",
    "        for hidden_dim in hidden_sizes:\n",
    "            for n_fc in fc_layers:\n",
    "                #Construct the model we are testing\n",
    "                model = LSTM_Tune(num_embeddings = num_embeddings,\n",
    "                                         embedding_dim = embedding_dim,\n",
    "                                         hidden_dim = hidden_dim,\n",
    "                                         dropout = dropout, \n",
    "                                         num_lstm_layers = n_lstm, \n",
    "                                         num_fc_layers = n_fc)\n",
    "                \n",
    "                #Train the model\n",
    "                trained_model, history, final_val_accuracy = better_finetune(model,\n",
    "                                                                             train_loader,\n",
    "                                                                             val_loader,\n",
    "                                                                             learning_rate=learning_rate,\n",
    "                                                                             num_epochs=num_epochs,\n",
    "                                                                             L2=L2,\n",
    "                                                                             momentum1=momentum1,\n",
    "                                                                             momentum2=momentum2,\n",
    "                                                                             device = device)\n",
    "    \n",
    "                \n",
    "                \n",
    "                #add the results\n",
    "                results.append({\n",
    "                    'n_lstm': n_lstm,\n",
    "                    'hidden_dim': hidden_dim,\n",
    "                    'n_fc': n_fc,\n",
    "                    'final_val_accuracy': final_val_accuracy\n",
    "                })\n",
    "\n",
    "print(\"Tuning Complete\")"
   ]
  },
  {
   "cell_type": "code",
   "execution_count": 18,
   "id": "037fafe5-88f7-467a-b73e-f5d460613f9d",
   "metadata": {},
   "outputs": [
    {
     "data": {
      "text/plain": [
       "\"[{'n_lstm': 1, 'hidden_dim': 64, 'n_fc': 1, 'final_val_accuracy': 99.23537234042553}, {'n_lstm': 1, 'hidden_dim': 64, 'n_fc': 2, 'final_val_accuracy': 97.80585106382979}, {'n_lstm': 1, 'hidden_dim': 64, 'n_fc': 3, 'final_val_accuracy': 99.43484042553192}, {'n_lstm': 1, 'hidden_dim': 128, 'n_fc': 1, 'final_val_accuracy': 99.23537234042553}, {'n_lstm': 1, 'hidden_dim': 128, 'n_fc': 2, 'final_val_accuracy': 99.33510638297872}, {'n_lstm': 1, 'hidden_dim': 128, 'n_fc': 3, 'final_val_accuracy': 98.4375}, {'n_lstm': 1, 'hidden_dim': 256, 'n_fc': 1, 'final_val_accuracy': 68.68351063829788}, {'n_lstm': 1, 'hidden_dim': 256, 'n_fc': 2, 'final_val_accuracy': 98.90292553191489}, {'n_lstm': 1, 'hidden_dim': 256, 'n_fc': 3, 'final_val_accuracy': 73.47074468085107}, {'n_lstm': 2, 'hidden_dim': 64, 'n_fc': 1, 'final_val_accuracy': 99.33510638297872}, {'n_lstm': 2, 'hidden_dim': 64, 'n_fc': 2, 'final_val_accuracy': 98.96941489361703}, {'n_lstm': 2, 'hidden_dim': 64, 'n_fc': 3, 'final_val_accuracy': 99.36835106382979}, {'n_lstm': 2, 'hidden_dim': 128, 'n_fc': 1, 'final_val_accuracy': 98.76994680851064}, {'n_lstm': 2, 'hidden_dim': 128, 'n_fc': 2, 'final_val_accuracy': 98.63696808510639}, {'n_lstm': 2, 'hidden_dim': 128, 'n_fc': 3, 'final_val_accuracy': 98.57047872340425}, {'n_lstm': 2, 'hidden_dim': 256, 'n_fc': 1, 'final_val_accuracy': 67.2872340425532}, {'n_lstm': 2, 'hidden_dim': 256, 'n_fc': 2, 'final_val_accuracy': 67.68617021276596}, {'n_lstm': 2, 'hidden_dim': 256, 'n_fc': 3, 'final_val_accuracy': 68.08510638297872}, {'n_lstm': 3, 'hidden_dim': 64, 'n_fc': 1, 'final_val_accuracy': 98.93617021276596}, {'n_lstm': 3, 'hidden_dim': 64, 'n_fc': 2, 'final_val_accuracy': 98.90292553191489}, {'n_lstm': 3, 'hidden_dim': 64, 'n_fc': 3, 'final_val_accuracy': 99.20212765957447}, {'n_lstm': 3, 'hidden_dim': 128, 'n_fc': 1, 'final_val_accuracy': 99.03590425531915}, {'n_lstm': 3, 'hidden_dim': 128, 'n_fc': 2, 'final_val_accuracy': 99.13563829787235}, {'n_lstm': 3, 'hidden_dim': 128, 'n_fc': 3, 'final_val_accuracy': 98.63696808510639}, {'n_lstm': 3, 'hidden_dim': 256, 'n_fc': 1, 'final_val_accuracy': 68.78324468085107}, {'n_lstm': 3, 'hidden_dim': 256, 'n_fc': 2, 'final_val_accuracy': 68.0186170212766}, {'n_lstm': 3, 'hidden_dim': 256, 'n_fc': 3, 'final_val_accuracy': 67.1875}]\""
      ]
     },
     "execution_count": 18,
     "metadata": {},
     "output_type": "execute_result"
    }
   ],
   "source": [
    "#print(results) #Output below:\n",
    "\"\"\"[{'n_lstm': 1, 'hidden_dim': 64, 'n_fc': 1, 'final_val_accuracy': 99.23537234042553}, {'n_lstm': 1, 'hidden_dim': 64, 'n_fc': 2, 'final_val_accuracy': 97.80585106382979}, {'n_lstm': 1, 'hidden_dim': 64, 'n_fc': 3, 'final_val_accuracy': 99.43484042553192}, {'n_lstm': 1, 'hidden_dim': 128, 'n_fc': 1, 'final_val_accuracy': 99.23537234042553}, {'n_lstm': 1, 'hidden_dim': 128, 'n_fc': 2, 'final_val_accuracy': 99.33510638297872}, {'n_lstm': 1, 'hidden_dim': 128, 'n_fc': 3, 'final_val_accuracy': 98.4375}, {'n_lstm': 1, 'hidden_dim': 256, 'n_fc': 1, 'final_val_accuracy': 68.68351063829788}, {'n_lstm': 1, 'hidden_dim': 256, 'n_fc': 2, 'final_val_accuracy': 98.90292553191489}, {'n_lstm': 1, 'hidden_dim': 256, 'n_fc': 3, 'final_val_accuracy': 73.47074468085107}, {'n_lstm': 2, 'hidden_dim': 64, 'n_fc': 1, 'final_val_accuracy': 99.33510638297872}, {'n_lstm': 2, 'hidden_dim': 64, 'n_fc': 2, 'final_val_accuracy': 98.96941489361703}, {'n_lstm': 2, 'hidden_dim': 64, 'n_fc': 3, 'final_val_accuracy': 99.36835106382979}, {'n_lstm': 2, 'hidden_dim': 128, 'n_fc': 1, 'final_val_accuracy': 98.76994680851064}, {'n_lstm': 2, 'hidden_dim': 128, 'n_fc': 2, 'final_val_accuracy': 98.63696808510639}, {'n_lstm': 2, 'hidden_dim': 128, 'n_fc': 3, 'final_val_accuracy': 98.57047872340425}, {'n_lstm': 2, 'hidden_dim': 256, 'n_fc': 1, 'final_val_accuracy': 67.2872340425532}, {'n_lstm': 2, 'hidden_dim': 256, 'n_fc': 2, 'final_val_accuracy': 67.68617021276596}, {'n_lstm': 2, 'hidden_dim': 256, 'n_fc': 3, 'final_val_accuracy': 68.08510638297872}, {'n_lstm': 3, 'hidden_dim': 64, 'n_fc': 1, 'final_val_accuracy': 98.93617021276596}, {'n_lstm': 3, 'hidden_dim': 64, 'n_fc': 2, 'final_val_accuracy': 98.90292553191489}, {'n_lstm': 3, 'hidden_dim': 64, 'n_fc': 3, 'final_val_accuracy': 99.20212765957447}, {'n_lstm': 3, 'hidden_dim': 128, 'n_fc': 1, 'final_val_accuracy': 99.03590425531915}, {'n_lstm': 3, 'hidden_dim': 128, 'n_fc': 2, 'final_val_accuracy': 99.13563829787235}, {'n_lstm': 3, 'hidden_dim': 128, 'n_fc': 3, 'final_val_accuracy': 98.63696808510639}, {'n_lstm': 3, 'hidden_dim': 256, 'n_fc': 1, 'final_val_accuracy': 68.78324468085107}, {'n_lstm': 3, 'hidden_dim': 256, 'n_fc': 2, 'final_val_accuracy': 68.0186170212766}, {'n_lstm': 3, 'hidden_dim': 256, 'n_fc': 3, 'final_val_accuracy': 67.1875}]\"\"\""
   ]
  },
  {
   "cell_type": "code",
   "execution_count": 19,
   "id": "8ceb97c7-6d8f-4781-bc96-ed75765900ac",
   "metadata": {},
   "outputs": [],
   "source": [
    "results = [{'n_lstm': 1, 'hidden_dim': 64, 'n_fc': 1, 'final_val_accuracy': 99.23537234042553}, {'n_lstm': 1, 'hidden_dim': 64, 'n_fc': 2, 'final_val_accuracy': 97.80585106382979}, {'n_lstm': 1, 'hidden_dim': 64, 'n_fc': 3, 'final_val_accuracy': 99.43484042553192}, {'n_lstm': 1, 'hidden_dim': 128, 'n_fc': 1, 'final_val_accuracy': 99.23537234042553}, {'n_lstm': 1, 'hidden_dim': 128, 'n_fc': 2, 'final_val_accuracy': 99.33510638297872}, {'n_lstm': 1, 'hidden_dim': 128, 'n_fc': 3, 'final_val_accuracy': 98.4375}, {'n_lstm': 1, 'hidden_dim': 256, 'n_fc': 1, 'final_val_accuracy': 68.68351063829788}, {'n_lstm': 1, 'hidden_dim': 256, 'n_fc': 2, 'final_val_accuracy': 98.90292553191489}, {'n_lstm': 1, 'hidden_dim': 256, 'n_fc': 3, 'final_val_accuracy': 73.47074468085107}, {'n_lstm': 2, 'hidden_dim': 64, 'n_fc': 1, 'final_val_accuracy': 99.33510638297872}, {'n_lstm': 2, 'hidden_dim': 64, 'n_fc': 2, 'final_val_accuracy': 98.96941489361703}, {'n_lstm': 2, 'hidden_dim': 64, 'n_fc': 3, 'final_val_accuracy': 99.36835106382979}, {'n_lstm': 2, 'hidden_dim': 128, 'n_fc': 1, 'final_val_accuracy': 98.76994680851064}, {'n_lstm': 2, 'hidden_dim': 128, 'n_fc': 2, 'final_val_accuracy': 98.63696808510639}, {'n_lstm': 2, 'hidden_dim': 128, 'n_fc': 3, 'final_val_accuracy': 98.57047872340425}, {'n_lstm': 2, 'hidden_dim': 256, 'n_fc': 1, 'final_val_accuracy': 67.2872340425532}, {'n_lstm': 2, 'hidden_dim': 256, 'n_fc': 2, 'final_val_accuracy': 67.68617021276596}, {'n_lstm': 2, 'hidden_dim': 256, 'n_fc': 3, 'final_val_accuracy': 68.08510638297872}, {'n_lstm': 3, 'hidden_dim': 64, 'n_fc': 1, 'final_val_accuracy': 98.93617021276596}, {'n_lstm': 3, 'hidden_dim': 64, 'n_fc': 2, 'final_val_accuracy': 98.90292553191489}, {'n_lstm': 3, 'hidden_dim': 64, 'n_fc': 3, 'final_val_accuracy': 99.20212765957447}, {'n_lstm': 3, 'hidden_dim': 128, 'n_fc': 1, 'final_val_accuracy': 99.03590425531915}, {'n_lstm': 3, 'hidden_dim': 128, 'n_fc': 2, 'final_val_accuracy': 99.13563829787235}, {'n_lstm': 3, 'hidden_dim': 128, 'n_fc': 3, 'final_val_accuracy': 98.63696808510639}, {'n_lstm': 3, 'hidden_dim': 256, 'n_fc': 1, 'final_val_accuracy': 68.78324468085107}, {'n_lstm': 3, 'hidden_dim': 256, 'n_fc': 2, 'final_val_accuracy': 68.0186170212766}, {'n_lstm': 3, 'hidden_dim': 256, 'n_fc': 3, 'final_val_accuracy': 67.1875}]"
   ]
  },
  {
   "cell_type": "code",
   "execution_count": 20,
   "id": "ca0ba428",
   "metadata": {},
   "outputs": [
    {
     "data": {
      "image/png": "[encoded data removed]",
      "text/plain": [
       "<Figure size 1000x700 with 2 Axes>"
      ]
     },
     "metadata": {},
     "output_type": "display_data"
    },
    {
     "data": {
      "image/png": "[encoded data removed]",
      "text/plain": [
       "<Figure size 1000x700 with 2 Axes>"
      ]
     },
     "metadata": {},
     "output_type": "display_data"
    },
    {
     "data": {
      "image/png": "[encoded data removed]",
      "text/plain": [
       "<Figure size 1000x700 with 2 Axes>"
      ]
     },
     "metadata": {},
     "output_type": "display_data"
    }
   ],
   "source": [
    "\n",
    "# Function to plot the variation of two hyperparameters against final validation accuracy\n",
    "\n",
    "#There is probably a MUCH better way to view the results\n",
    "\n",
    "#Feel free to make different graphs\n",
    "def plot_hyperparameters_vs_accuracy(results, fixed_param, fixed_value):\n",
    "    filtered_results = [r for r in results if r[fixed_param] == fixed_value]\n",
    "\n",
    "    if fixed_param == 'hidden_dim':\n",
    "        x = [r['n_lstm'] for r in filtered_results]\n",
    "        y = [r['n_fc'] for r in filtered_results]\n",
    "        z = [r['final_val_accuracy'] for r in filtered_results]\n",
    "        xlabel = 'Number of LSTM Layers'\n",
    "        ylabel = 'Number of FC Layers'\n",
    "    elif fixed_param == 'n_lstm':\n",
    "        x = [r['hidden_dim'] for r in filtered_results]\n",
    "        y = [r['n_fc'] for r in filtered_results]\n",
    "        z = [r['final_val_accuracy'] for r in filtered_results]\n",
    "        xlabel = 'Hidden Dimension'\n",
    "        ylabel = 'Number of FC Layers'\n",
    "    else:  # fixed_param == 'n_fc'\n",
    "        x = [r['n_lstm'] for r in filtered_results]\n",
    "        y = [r['hidden_dim'] for r in filtered_results]\n",
    "        z = [r['final_val_accuracy'] for r in filtered_results]\n",
    "        xlabel = 'Number of LSTM Layers'\n",
    "        ylabel = 'Hidden Dimension'\n",
    "\n",
    "    plt.figure(figsize=(10, 7))\n",
    "    plt.scatter(x, y, c=z, cmap='viridis', s=100)\n",
    "    plt.colorbar().set_label('Final Validation Accuracy', rotation=270, labelpad=15)\n",
    "    plt.xlabel(xlabel)\n",
    "    plt.ylabel(ylabel)\n",
    "    plt.title(f'Variation with {fixed_param} = {fixed_value}')\n",
    "    plt.grid(True)\n",
    "    plt.show()\n",
    "\n",
    "\n",
    "plot_hyperparameters_vs_accuracy(results, 'hidden_dim', 64)\n",
    "plot_hyperparameters_vs_accuracy(results, 'hidden_dim', 128)\n",
    "plot_hyperparameters_vs_accuracy(results, 'hidden_dim', 256)"
   ]
  },
  {
   "cell_type": "markdown",
   "id": "96df12ff",
   "metadata": {},
   "source": [
    "# As shown by this section, the best architecture we found was (doesn't matter all that much, we already have a pretty good model - we just need to show that we experimented with stuff))"
   ]
  },
  {
   "cell_type": "markdown",
   "id": "1af293f4",
   "metadata": {},
   "source": [
    "# Intuition (5 points). Show the output of your model for several specific sentences. Pick inputs that demonstrate the behavior of the system, and try to figure out what things the model is focusing on. Explain your intuition about what the model is doing."
   ]
  },
  {
   "cell_type": "markdown",
   "id": "4be019b4",
   "metadata": {},
   "source": [
    "### Below, we build a good model so we can experiment with it and build intuition. "
   ]
  },
  {
   "cell_type": "code",
   "execution_count": 24,
   "id": "9a4386ec-295d-4c0b-88bc-8164bb4ac14f",
   "metadata": {},
   "outputs": [
    {
     "name": "stdout",
     "output_type": "stream",
     "text": [
      "Reading the files.\n"
     ]
    },
    {
     "name": "stderr",
     "output_type": "stream",
     "text": [
      "Training: 100%|█████████████████████████████████████████████████████████████| 350905/350905 [00:05<00:00, 64474.87it/s]\n",
      "Validation: 100%|███████████████████████████████████████████████████████████| 150388/150388 [00:01<00:00, 79619.92it/s]\n"
     ]
    },
    {
     "name": "stdout",
     "output_type": "stream",
     "text": [
      "My device is cpu\n"
     ]
    },
    {
     "name": "stderr",
     "output_type": "stream",
     "text": [
      "Training Epoch:  20%|█████████████▌                                                      | 1/5 [01:32<06:10, 92.58s/it]"
     ]
    },
    {
     "name": "stdout",
     "output_type": "stream",
     "text": [
      "Epoch [1/5], Training Loss: 0.3191, Validation Loss: 0.0311, Validation Accuracy: 99.21%\n"
     ]
    },
    {
     "name": "stderr",
     "output_type": "stream",
     "text": [
      "Training Epoch:  40%|███████████████████████████▏                                        | 2/5 [03:05<04:37, 92.50s/it]"
     ]
    },
    {
     "name": "stdout",
     "output_type": "stream",
     "text": [
      "Epoch [2/5], Training Loss: 0.0194, Validation Loss: 0.0159, Validation Accuracy: 99.63%\n"
     ]
    },
    {
     "name": "stderr",
     "output_type": "stream",
     "text": [
      "Training Epoch:  60%|████████████████████████████████████████▊                           | 3/5 [04:41<03:08, 94.31s/it]"
     ]
    },
    {
     "name": "stdout",
     "output_type": "stream",
     "text": [
      "Epoch [3/5], Training Loss: 0.0127, Validation Loss: 0.0118, Validation Accuracy: 99.71%\n"
     ]
    },
    {
     "name": "stderr",
     "output_type": "stream",
     "text": [
      "Training Epoch:  80%|██████████████████████████████████████████████████████▍             | 4/5 [06:13<01:33, 93.52s/it]"
     ]
    },
    {
     "name": "stdout",
     "output_type": "stream",
     "text": [
      "Epoch [4/5], Training Loss: 0.0098, Validation Loss: 0.0165, Validation Accuracy: 99.59%\n"
     ]
    },
    {
     "name": "stderr",
     "output_type": "stream",
     "text": [
      "Training Epoch: 100%|████████████████████████████████████████████████████████████████████| 5/5 [07:46<00:00, 93.28s/it]"
     ]
    },
    {
     "name": "stdout",
     "output_type": "stream",
     "text": [
      "Epoch [5/5], Training Loss: 0.0094, Validation Loss: 0.0100, Validation Accuracy: 99.77%\n"
     ]
    },
    {
     "name": "stderr",
     "output_type": "stream",
     "text": [
      "\n"
     ]
    }
   ],
   "source": [
    "#Dataset Parameters\n",
    "dataset_proportion = 0.05\n",
    "val_split = 0.3\n",
    "batch_size = 10240\n",
    "num_workers = 0\n",
    "dropout = 0.5\n",
    "train_loader, val_loader = get_train_val_loaders(dataset_proportion, val_split, batch_size, num_workers)\n",
    "\n",
    "\n",
    "\n",
    "#Model Parameters\n",
    "num_embeddings = len(unique_character_map) #for embedding layer\n",
    "embedding_dim = 64 #I choose this - dimension for embedding layer\n",
    "hidden_dim = 64 #Parameter - hidden dimensions\n",
    "dropout = 0.5\n",
    "n_lstm = 1\n",
    "n_fc = 3\n",
    "model = LSTM_Tune(num_embeddings = num_embeddings,\n",
    "                                         embedding_dim = embedding_dim,\n",
    "                                         hidden_dim = hidden_dim,\n",
    "                                         dropout = dropout, \n",
    "                                         num_lstm_layers = n_lstm, \n",
    "                                         num_fc_layers = n_fc)\n",
    "\n",
    "#Training Parameters\n",
    "learning_rate = 0.02\n",
    "L2 = 0#0.0001\n",
    "num_epochs = 5\n",
    "momentum1 = 0.9\n",
    "momentum2 = 0.999\n",
    "device = torch.device(\"cuda:0\" if torch.cuda.is_available() else \"cpu\")\n",
    "print(f\"My device is {device}\")\n",
    "best_trained_model, history, final_val_accuracy = better_finetune(model,\n",
    "                                                             train_loader,\n",
    "                                                             val_loader,\n",
    "                                                             learning_rate=learning_rate,\n",
    "                                                             num_epochs=num_epochs,\n",
    "                                                             L2=L2,\n",
    "                                                             momentum1=momentum1,\n",
    "                                                             momentum2=momentum2,\n",
    "                                                             device = device)\n"
   ]
  },
  {
   "cell_type": "code",
   "execution_count": 25,
   "id": "da7fa81b-82c8-4859-a872-871766a3adb3",
   "metadata": {},
   "outputs": [
    {
     "data": {
      "image/png": "[encoded data removed]",
      "text/plain": [
       "<Figure size 1200x600 with 1 Axes>"
      ]
     },
     "metadata": {},
     "output_type": "display_data"
    }
   ],
   "source": [
    "plot_history(history)"
   ]
  },
  {
   "cell_type": "markdown",
   "id": "bc3b84be",
   "metadata": {},
   "source": [
    "# Below, we build a predict() function and then experiment with what the model outputs for example sentences to gain intuition of what the model is doing"
   ]
  },
  {
   "cell_type": "code",
   "execution_count": 43,
   "id": "3d1ff67e",
   "metadata": {},
   "outputs": [
    {
     "name": "stdout",
     "output_type": "stream",
     "text": [
      "Sentence: the\n",
      "Model Output: -3.2810\n",
      "\n",
      "Sentence: the the the the the the the the the the the the the the the the the the the the the the the the the the the the the the the\n",
      "Model Output: -6.1047\n",
      "\n",
      "Sentence: the weather is super nice today\n",
      "Model Output: -3.5013\n",
      "\n",
      "Sentence: que\n",
      "Model Output: 1.9508\n",
      "\n",
      "Sentence: que que que que que que que que que que que que que que que que que que que que que que que que que que que que que que que\n",
      "Model Output: 5.9724\n",
      "\n",
      "Sentence: que the\n",
      "Model Output: -2.7015\n",
      "\n",
      "Sentence: que que que que que que que que que que que que que que que que the the the the the the the the the the the the the the the\n",
      "Model Output: -2.5301\n",
      "\n",
      "Sentence: the que\n",
      "Model Output: -2.9660\n",
      "\n",
      "Sentence: the the the the the the the the the the the the the the the the que que que que que que que que que que que que que que que\n",
      "Model Output: 0.7559\n",
      "\n",
      "Sentence: que es la biblioteca\n",
      "Model Output: 7.4548\n",
      "\n",
      "Sentence: this sentence is in spanish\n",
      "Model Output: -2.9130\n",
      "\n",
      "Sentence:          \n",
      "Model Output: 2.1535\n",
      "\n",
      "Sentence: what\n",
      "Model Output: -0.3046\n",
      "\n",
      "Sentence: que\n",
      "Model Output: 1.9508\n",
      "\n",
      "Sentence: what que\n",
      "Model Output: -1.7438\n",
      "\n",
      "Sentence: que what\n",
      "Model Output: 1.5503\n",
      "\n",
      "Sentence: áéíóúñü\n",
      "Model Output: 8.6816\n",
      "\n",
      "Sentence: this sentence is in english but this is: áéíóúñü.\n",
      "Model Output: -0.3636\n",
      "\n",
      "Sentence: áéíóúñü this sentence is in english but this is\n",
      "Model Output: -3.0002\n",
      "\n",
      "Sentence: whát\n",
      "Model Output: 2.7098\n",
      "\n"
     ]
    }
   ],
   "source": [
    "def predict(model, sentence, character_map):\n",
    "    # Convert sentence to tensor input\n",
    "    tensor_input = convert_sentence_to_fixed_length(sentence) #THIS FUNCTION ALSO WORKS IF WE JUST CONVERT THE \n",
    "    #SENTENCE TO THE CHARACTER_MAP - SUPER WEIRD!!!\n",
    "    #character_map = {char: idx for idx, char in enumerate(unique_character_map)}\n",
    "    #tensor_input = [character_map[char] for char in sentence] - THIS FUNCTION WORKS IF WE JUST DO THIS, SO \n",
    "    #IT ALREADY SUPPORTS VARIABLE LENGTH SENTENCES?!?!?\n",
    "    tensor_input = torch.tensor(tensor_input).unsqueeze(0)  # Add batch dimension\n",
    "    \n",
    "    # Initial hidden and cell states (set to zeros)\n",
    "    h0 = torch.zeros(model.num_lstm_layers, tensor_input.size(0), model.lstm.hidden_size)  # 1 for one layer LSTM\n",
    "    c0 = torch.zeros(model.num_lstm_layers, tensor_input.size(0), model.lstm.hidden_size)\n",
    "    \n",
    "    # Model prediction\n",
    "    model.eval()\n",
    "    with torch.no_grad():\n",
    "        scores, _ = model(tensor_input, (h0, c0))\n",
    "    \n",
    "    # Extract the relevant score (last sequence item for the current setup)\n",
    "    # Squeezing to get a single scalar value from the tensor\n",
    "    return scores[0, -1, 0].item()\n",
    "\n",
    "\n",
    "\n",
    "\n",
    "#Sentences to explore\n",
    "sentences = [\n",
    "    \"the\",\n",
    "    \"the the the the the the the the the the the the the the the the the the the the the the the the the the the the the the the\",\n",
    "    \"the weather is super nice today\",\n",
    "    \"que\",\n",
    "    \"que que que que que que que que que que que que que que que que que que que que que que que que que que que que que que que\",\n",
    "    \"que the\",\n",
    "    \"que que que que que que que que que que que que que que que que the the the the the the the the the the the the the the the\",\n",
    "    \"the que\",\n",
    "    \"the the the the the the the the the the the the the the the the que que que que que que que que que que que que que que que\",\n",
    "    \"que es la biblioteca\", \n",
    "    \"this sentence is in spanish\", \n",
    "    \"         \", \n",
    "    \"what\", \n",
    "    \"que\",\n",
    "    \"what que\", \n",
    "    \"que what\", \n",
    "    \"áéíóúñü\",\n",
    "    \"this sentence is in english but this is: áéíóúñü.\", \n",
    "    \"áéíóúñü this sentence is in english but this is\", \n",
    "    \"whát\"\n",
    "]\n",
    "\n",
    "# Predict and display the outputs for the sentences\n",
    "for sentence in sentences:\n",
    "    prediction = predict(best_trained_model, sentence, unique_character_map)\n",
    "    print(f\"Sentence: {sentence}\")\n",
    "    print(f\"Model Output: {prediction:.4f}\\n\")\n",
    "\n",
    "\n",
    "#as a note, negative values are English, Positive are Spanish\n",
    "#experiment with accented spanish characters for sure\n",
    "\n",
    "#for some reason it makes predictions off of periods a lot?"
   ]
  },
  {
   "cell_type": "markdown",
   "id": "eb68a017-9943-4f53-a25c-374725ec00f3",
   "metadata": {},
   "source": [
    "# Summary of Question 1:\n",
    "\n",
    "### In question 1, we accomplished 4 primary goals. \n",
    "\n",
    "1. We successfully preprocessed the data to convert all letters to lowercase and removed all other characters except whitespace and periods. We also put this data successfully into training and validation data loaders.\n",
    "\n",
    "2. Using the training and validation data loaders, we trained a 1-layer LSTM, 1-FC layer model on 10% of the data and achieved a final validation accuracy of __. This shows that we have trained a successful model on the data.\n",
    "\n",
    "3. Then, we tuned many hyperparameters and found that a 1-layer LSTM, 3-FC layer model with a hidden dimension size of 64 had the highest validation accuracy out of all the models we tested. We also found the interesing result that final validation accuracy does not necessarily increase with more LSTM layers. For the tuning process, we trained on only 0.1% of the data in order to train all of our models quickly.\n",
    "\n",
    "4. After this, we trained our optimal model on 10% of the dataset and achieved a final validation accuracy of 99.8%, which we are very proud of. This very high accuracy is indicative that we have trained a model that has successfully learned how to classify English vs. Spanish sentences. Then, we manually classified several sentences to gain some indication about how our model is making its decisions. What we learned is listed below:\n",
    "\n",
    "- .\n",
    "- .\n",
    "- .\n",
    "- .\n",
    "- .\n",
    "- .\n",
    "- .\n",
    "- \n",
    "\n"
   ]
  },
  {
   "cell_type": "markdown",
   "id": "8fd0fca9-df58-4009-b0fd-13d4df8e7c1e",
   "metadata": {},
   "source": [
    "\n",
    "\n",
    "## Part 2: Realistic system with variable-length inputs (25 points\n",
    "\n",
    "In the second part of the assignment you will do the following:\n",
    "\n",
    "\n",
    "● Prepare the data (10 points). Your data should be the same as in part 1, except that \n",
    "each sample should contain one complete sentence rather than a fixed-length sequence of characters. This means that your training & validation samples should have variable \n",
    "length. You will need to zero-pad your inputs.\n",
    "\n",
    "\n",
    "● Train model (15 points). Use the best model architecture that you found from part 1, \n",
    "and train a model on your data. Be careful to handle the zero-padding correctly, since \n",
    "you can no longer use the same index for all batch samples. Show the training & \n",
    "validation loss curves and validation accuracy. Compare your results to the \n",
    "corresponding model in part 1.\n",
    "\n",
    "\n"
   ]
  },
  {
   "cell_type": "markdown",
   "id": "39f34cba",
   "metadata": {},
   "source": [
    "# Our strategy for zero-padding the inputs is as follows. We will zero-pad every single sentence so that they are all the same size as the longest batch in the dataset using the helper function we made in the first part, this way we don't cut any sentence short. \n",
    "\n",
    "# This allows us to change very little about our code because we just need to adjust our helper function, convert_sentences_to_fixed_length, so that all sentences are the same length via zeropadding and none are cut short. "
   ]
  },
  {
   "cell_type": "code",
   "execution_count": 27,
   "id": "164ab6d5-efa8-4276-bb51-f69e7578adf0",
   "metadata": {},
   "outputs": [],
   "source": [
    "#Import Statements\n",
    "from tqdm import tqdm\n",
    "import string\n",
    "import torch\n",
    "from torch.optim.lr_scheduler import StepLR\n",
    "from torch import nn, optim\n",
    "\n",
    "import numpy as np\n",
    "import torch\n",
    "import torch.nn as nn\n",
    "import torch.optim as optim\n",
    "\n",
    "import matplotlib.pyplot as plt\n",
    "from torch.utils.data import Dataset, DataLoader\n"
   ]
  },
  {
   "cell_type": "code",
   "execution_count": 28,
   "id": "29e0257f-27ee-4710-9bb8-6f2c0eafbadc",
   "metadata": {},
   "outputs": [],
   "source": [
    "unique_character_map = {\n",
    "    \" \": 0,\n",
    "    \"a\": 1,\n",
    "    \"b\": 2,\n",
    "    \"c\": 3, \n",
    "    \"d\": 4,\n",
    "    \"e\": 5, \n",
    "    \"f\": 6, \n",
    "    \"g\": 7, \n",
    "    \"h\": 8, \n",
    "    \"i\": 9, \n",
    "    \"j\": 10,\n",
    "    \"k\": 11, \n",
    "    \"l\": 12,\n",
    "    \"m\": 13, \n",
    "    \"n\": 14, \n",
    "    \"o\": 15,\n",
    "    \"p\": 16,\n",
    "    \"q\": 17, \n",
    "    \"r\": 18, \n",
    "    \"s\": 19, \n",
    "    \"t\": 20, \n",
    "    \"u\": 21, \n",
    "    \"v\": 22, \n",
    "    \"w\": 23, \n",
    "    \"x\": 24, \n",
    "    \"y\": 25, \n",
    "    \"z\": 26, \n",
    "    \".\": 27, \n",
    "    \"á\": 28,\n",
    "    \"é\": 29, \n",
    "    \"í\": 30,\n",
    "    \"ó\": 31, \n",
    "    \"ú\": 32,\n",
    "    \"ñ\": 33, \n",
    "    \"ü\": 34\n",
    "}\n"
   ]
  },
  {
   "cell_type": "code",
   "execution_count": 49,
   "id": "4d267369",
   "metadata": {},
   "outputs": [],
   "source": [
    "#Part 2 Helper function - we NEVER shorten a sentence\n",
    "def convert_sentence_part2(sentence, max_length):\n",
    "    # Convert each character to its integer representation\n",
    "    sequence = [unique_character_map[char] for char in sentence if char in unique_character_map]\n",
    "    # If shorter than required length, pad with zeros\n",
    "    while len(sequence) < max_length:\n",
    "        sequence.append(0)\n",
    "    #DONT TRIM THE SENTENCE - aka, trim it by the max_len that we give it\n",
    "    return sequence[:max_length]\n",
    "\n",
    "def get_train_val_loaders_part2(dataset_proportion = 0.001, val_split = 0.3, batch_size=1024, num_workers=0, max_len = -1):\n",
    "    \"\"\"\n",
    "    This helper function will create our Validation and Training loaders as \n",
    "    specified in problem 2.\n",
    "\n",
    "    The only difference we make from part 1 is that we pass the max sentence length into the convert_sentence helper function.\n",
    "    \n",
    "    \"\"\"\n",
    "\n",
    "    #Data/EnglishSentences.txt\n",
    "    english_file = \"Data/EnglishSentences.txt\"\n",
    "    \n",
    "    #english_file = \"/Users\\Brandon\\Desktop\\Classes\\E208\\Homework\\E208HW7\\Data\\Processed\\English/sentences.txt\"\n",
    "    #spanish_file = \"/Users\\Brandon\\Desktop\\Classes\\E208\\Homework\\E208HW7\\Data\\Processed\\Spanish/sentences.txt\"\n",
    "    spanish_file = \"Data/ProcessedSpanishSentences.txt\"\n",
    "    \n",
    "    print(\"Reading the files.\")\n",
    "    with open(english_file, 'r', encoding='utf-8') as file:\n",
    "        english_sentences = file.readlines()\n",
    "\n",
    "    with open(spanish_file, 'r') as file:\n",
    "        spanish_sentences = file.readlines()\n",
    "\n",
    "    #Specify how much of the data we're using\n",
    "    english_subset_size = int(dataset_proportion * len(english_sentences))\n",
    "    spanish_subset_size = int(dataset_proportion * len(spanish_sentences))\n",
    "\n",
    "    english_subset = english_sentences[:english_subset_size]\n",
    "    spanish_subset = spanish_sentences[:spanish_subset_size]\n",
    "\n",
    "    # Split the subset into training and validation sets\n",
    "    english_train_size = int((1-val_split)* english_subset_size)\n",
    "    spanish_train_size = int((1-val_split) * spanish_subset_size)\n",
    "\n",
    "    train_sentences = english_subset[:english_train_size] + spanish_subset[:spanish_train_size]\n",
    "    train_labels = [0] * english_train_size + [1] * spanish_train_size\n",
    "\n",
    "    validation_sentences = english_subset[english_train_size:] + spanish_subset[spanish_train_size:]\n",
    "    validation_labels = [0] * (english_subset_size - english_train_size) + [1] * (spanish_subset_size - spanish_train_size)\n",
    "\n",
    "    if max_len == -1:\n",
    "        max_len = max(max([len(x) for x in validation_sentences]), max([len(x) for x in train_sentences]))\n",
    "    \n",
    "    train_data = [convert_sentence_part2(sentence, max_len) for sentence in tqdm(train_sentences, \"Training\")]\n",
    "    validation_data = [convert_sentence_part2(sentence, max_len) for sentence in tqdm(validation_sentences, \"Validation\")]\n",
    "    \n",
    "    \n",
    "    #Now that we have lists of our training and validation data, we will convert them to the super useful \n",
    "    #DataLoader class from Pytorch that allows us to use batch training and makes our life easier. \n",
    "    \n",
    "    #HOW TO MAKE OUR TRAIN_DATASET (primary resource used):\n",
    "    #https://pytorch.org/tutorials/beginner/basics/data_tutorial.html?ref=mlnuggets.digitalpress.blog\n",
    "                          \n",
    "    #In order to make train_dataset and val_dataset, we need to make objects that have specific properties that \n",
    "    #PyTorch is looking for, i.e.: \n",
    "    class CustomDataset(Dataset):\n",
    "        def __init__(self, sentences, labels):\n",
    "            #Need to put everything in tensors so we can put it on a gpu later\n",
    "            self.sentences = torch.tensor(sentences)\n",
    "            self.labels = torch.tensor(labels)\n",
    "\n",
    "        def __len__(self):\n",
    "            return len(self.sentences)\n",
    "\n",
    "        def __getitem__(self, index):\n",
    "            #here we return the sentence and whether it is English or Espanol\n",
    "            return self.sentences[index], self.labels[index]               \n",
    "    \n",
    "    #now we can make our custom data object for the DataLoader\n",
    "    train_dataset = CustomDataset(train_data, train_labels)\n",
    "    val_dataset = CustomDataset(validation_data, validation_labels)\n",
    "    \n",
    "    #copy over from HW6\n",
    "    train_loader = torch.utils.data.DataLoader(train_dataset, batch_size=batch_size, shuffle=True, num_workers=num_workers)\n",
    "    val_loader = torch.utils.data.DataLoader(val_dataset, batch_size=batch_size, shuffle=True, num_workers=num_workers)\n",
    "    \n",
    "    return train_loader, val_loader\n"
   ]
  },
  {
   "cell_type": "code",
   "execution_count": 47,
   "id": "0b010a88",
   "metadata": {},
   "outputs": [
    {
     "name": "stdout",
     "output_type": "stream",
     "text": [
      "Reading the files.\n"
     ]
    },
    {
     "name": "stderr",
     "output_type": "stream",
     "text": [
      "Training: 100%|█████████████████████████████████████████████████████████████████| 7017/7017 [00:00<00:00, 14746.09it/s]\n",
      "Validation: 100%|███████████████████████████████████████████████████████████████| 3008/3008 [00:00<00:00, 62854.48it/s]\n"
     ]
    },
    {
     "name": "stdout",
     "output_type": "stream",
     "text": [
      "My device is cpu\n"
     ]
    },
    {
     "name": "stderr",
     "output_type": "stream",
     "text": [
      "Training Epoch:  20%|█████████████▌                                                      | 1/5 [00:11<00:44, 11.10s/it]"
     ]
    },
    {
     "name": "stdout",
     "output_type": "stream",
     "text": [
      "Epoch [1/5], Training Loss: 0.7410, Validation Loss: 0.6872, Validation Accuracy: 62.37%\n"
     ]
    },
    {
     "name": "stderr",
     "output_type": "stream",
     "text": [
      "Training Epoch:  40%|███████████████████████████▏                                        | 2/5 [00:23<00:35, 11.88s/it]"
     ]
    },
    {
     "name": "stdout",
     "output_type": "stream",
     "text": [
      "Epoch [2/5], Training Loss: 0.6788, Validation Loss: 0.6689, Validation Accuracy: 62.33%\n"
     ]
    },
    {
     "name": "stderr",
     "output_type": "stream",
     "text": [
      "Training Epoch:  60%|████████████████████████████████████████▊                           | 3/5 [00:26<00:15,  7.80s/it]"
     ]
    },
    {
     "name": "stdout",
     "output_type": "stream",
     "text": [
      "Epoch [3/5], Training Loss: 0.6555, Validation Loss: 0.6261, Validation Accuracy: 62.90%\n"
     ]
    },
    {
     "name": "stderr",
     "output_type": "stream",
     "text": [
      "Training Epoch:  80%|██████████████████████████████████████████████████████▍             | 4/5 [00:29<00:05,  5.89s/it]"
     ]
    },
    {
     "name": "stdout",
     "output_type": "stream",
     "text": [
      "Epoch [4/5], Training Loss: 0.5803, Validation Loss: 0.5028, Validation Accuracy: 71.38%\n"
     ]
    },
    {
     "name": "stderr",
     "output_type": "stream",
     "text": [
      "Training Epoch: 100%|████████████████████████████████████████████████████████████████████| 5/5 [00:32<00:00,  6.43s/it]"
     ]
    },
    {
     "name": "stdout",
     "output_type": "stream",
     "text": [
      "Epoch [5/5], Training Loss: 0.4247, Validation Loss: 0.3791, Validation Accuracy: 89.73%\n"
     ]
    },
    {
     "name": "stderr",
     "output_type": "stream",
     "text": [
      "\n"
     ]
    }
   ],
   "source": [
    "\n",
    "#Dataset Parameters\n",
    "dataset_proportion = 0.05\n",
    "val_split = 0.3\n",
    "batch_size = 10240\n",
    "num_workers = 0\n",
    "dropout = 0.5\n",
    "train_loader, val_loader = get_train_val_loaders_part2(dataset_proportion, val_split, batch_size, num_workers)\n",
    "\n",
    "\n",
    "#Model Parameters\n",
    "num_embeddings = len(unique_character_map) #for embedding layer\n",
    "embedding_dim = 64 #I choose this - dimension for embedding layer\n",
    "hidden_dim = 64 #Parameter - hidden dimensions\n",
    "dropout = 0\n",
    "n_lstm = 1\n",
    "n_fc = 3\n",
    "model = LSTM_Tune(num_embeddings = num_embeddings,\n",
    "                                         embedding_dim = embedding_dim,\n",
    "                                         hidden_dim = hidden_dim,\n",
    "                                         dropout = dropout, \n",
    "                                         num_lstm_layers = n_lstm, \n",
    "                                         num_fc_layers = n_fc)\n",
    "\n",
    "#Training Parameters\n",
    "learning_rate = 0.02\n",
    "L2 = 0#0.0001\n",
    "num_epochs = 5\n",
    "momentum1 = 0.9\n",
    "momentum2 = 0.999\n",
    "device = torch.device(\"cuda:0\" if torch.cuda.is_available() else \"cpu\")\n",
    "print(f\"My device is {device}\")\n",
    "model, history, final_val_accuracy = better_finetune(model,\n",
    "                                                     train_loader,\n",
    "                                                     val_loader,\n",
    "                                                     learning_rate=learning_rate,\n",
    "                                                     num_epochs=num_epochs,\n",
    "                                                     L2=L2,\n",
    "                                                     momentum1=momentum1,\n",
    "                                                     momentum2=momentum2,\n",
    "                                                     device=device)"
   ]
  },
  {
   "cell_type": "code",
   "execution_count": null,
   "id": "4f5c24e2",
   "metadata": {},
   "outputs": [],
   "source": []
  },
  {
   "cell_type": "code",
   "execution_count": null,
   "id": "810fa89b",
   "metadata": {},
   "outputs": [],
   "source": []
  },
  {
   "cell_type": "code",
   "execution_count": null,
   "id": "371df930",
   "metadata": {},
   "outputs": [],
   "source": []
  },
  {
   "cell_type": "markdown",
   "id": "f4f5e6c8-21dd-4521-8d13-c98f24d9f86a",
   "metadata": {},
   "source": [
    "## To explain why, we explore something. We train multiple models with increasing lengths of each sentence. We train multiple models below on 0.1% of the dataset with slowly increasing lengths of padding in the sentences. "
   ]
  },
  {
   "cell_type": "code",
   "execution_count": 50,
   "id": "7d739ad9",
   "metadata": {},
   "outputs": [
    {
     "name": "stdout",
     "output_type": "stream",
     "text": [
      "Reading the files.\n"
     ]
    },
    {
     "name": "stderr",
     "output_type": "stream",
     "text": [
      "Training: 100%|█████████████████████████████████████████████████████████████████| 7017/7017 [00:00<00:00, 15496.05it/s]\n",
      "Validation: 100%|██████████████████████████████████████████████████████████████| 3008/3008 [00:00<00:00, 118355.56it/s]\n"
     ]
    },
    {
     "name": "stdout",
     "output_type": "stream",
     "text": [
      "My device is cpu\n"
     ]
    },
    {
     "name": "stderr",
     "output_type": "stream",
     "text": [
      "Training Epoch:  20%|█████████████▌                                                      | 1/5 [00:00<00:02,  1.54it/s]"
     ]
    },
    {
     "name": "stdout",
     "output_type": "stream",
     "text": [
      "Epoch [1/5], Training Loss: 0.6243, Validation Loss: 0.4919, Validation Accuracy: 77.29%\n"
     ]
    },
    {
     "name": "stderr",
     "output_type": "stream",
     "text": [
      "Training Epoch:  40%|███████████████████████████▏                                        | 2/5 [00:01<00:02,  1.47it/s]"
     ]
    },
    {
     "name": "stdout",
     "output_type": "stream",
     "text": [
      "Epoch [2/5], Training Loss: 0.3403, Validation Loss: 0.2521, Validation Accuracy: 93.15%\n"
     ]
    },
    {
     "name": "stderr",
     "output_type": "stream",
     "text": [
      "Training Epoch:  60%|████████████████████████████████████████▊                           | 3/5 [00:02<00:01,  1.49it/s]"
     ]
    },
    {
     "name": "stdout",
     "output_type": "stream",
     "text": [
      "Epoch [3/5], Training Loss: 0.2677, Validation Loss: 0.1697, Validation Accuracy: 94.88%\n"
     ]
    },
    {
     "name": "stderr",
     "output_type": "stream",
     "text": [
      "Training Epoch:  80%|██████████████████████████████████████████████████████▍             | 4/5 [00:02<00:00,  1.48it/s]"
     ]
    },
    {
     "name": "stdout",
     "output_type": "stream",
     "text": [
      "Epoch [4/5], Training Loss: 0.1785, Validation Loss: 0.1323, Validation Accuracy: 95.68%\n"
     ]
    },
    {
     "name": "stderr",
     "output_type": "stream",
     "text": [
      "Training Epoch: 100%|████████████████████████████████████████████████████████████████████| 5/5 [00:03<00:00,  1.50it/s]"
     ]
    },
    {
     "name": "stdout",
     "output_type": "stream",
     "text": [
      "Epoch [5/5], Training Loss: 0.1498, Validation Loss: 0.1623, Validation Accuracy: 94.12%\n",
      "Reading the files.\n"
     ]
    },
    {
     "name": "stderr",
     "output_type": "stream",
     "text": [
      "\n",
      "Training: 100%|█████████████████████████████████████████████████████████████████| 7017/7017 [00:00<00:00, 26526.80it/s]\n",
      "Validation: 100%|███████████████████████████████████████████████████████████████| 3008/3008 [00:00<00:00, 13287.04it/s]\n"
     ]
    },
    {
     "name": "stdout",
     "output_type": "stream",
     "text": [
      "My device is cpu\n"
     ]
    },
    {
     "name": "stderr",
     "output_type": "stream",
     "text": [
      "Training Epoch:  20%|█████████████▌                                                      | 1/5 [00:01<00:04,  1.24s/it]"
     ]
    },
    {
     "name": "stdout",
     "output_type": "stream",
     "text": [
      "Epoch [1/5], Training Loss: 0.6458, Validation Loss: 0.6068, Validation Accuracy: 69.28%\n"
     ]
    },
    {
     "name": "stderr",
     "output_type": "stream",
     "text": [
      "Training Epoch:  40%|███████████████████████████▏                                        | 2/5 [00:02<00:03,  1.29s/it]"
     ]
    },
    {
     "name": "stdout",
     "output_type": "stream",
     "text": [
      "Epoch [2/5], Training Loss: 0.5469, Validation Loss: 0.3748, Validation Accuracy: 85.94%\n"
     ]
    },
    {
     "name": "stderr",
     "output_type": "stream",
     "text": [
      "Training Epoch:  60%|████████████████████████████████████████▊                           | 3/5 [00:03<00:02,  1.30s/it]"
     ]
    },
    {
     "name": "stdout",
     "output_type": "stream",
     "text": [
      "Epoch [3/5], Training Loss: 0.2519, Validation Loss: 0.1387, Validation Accuracy: 96.34%\n"
     ]
    },
    {
     "name": "stderr",
     "output_type": "stream",
     "text": [
      "Training Epoch:  80%|██████████████████████████████████████████████████████▍             | 4/5 [00:05<00:01,  1.30s/it]"
     ]
    },
    {
     "name": "stdout",
     "output_type": "stream",
     "text": [
      "Epoch [4/5], Training Loss: 0.0848, Validation Loss: 0.0583, Validation Accuracy: 99.07%\n"
     ]
    },
    {
     "name": "stderr",
     "output_type": "stream",
     "text": [
      "Training Epoch: 100%|████████████████████████████████████████████████████████████████████| 5/5 [00:06<00:00,  1.30s/it]"
     ]
    },
    {
     "name": "stdout",
     "output_type": "stream",
     "text": [
      "Epoch [5/5], Training Loss: 0.0410, Validation Loss: 0.0340, Validation Accuracy: 99.04%\n",
      "Reading the files.\n"
     ]
    },
    {
     "name": "stderr",
     "output_type": "stream",
     "text": [
      "\n",
      "Training: 100%|█████████████████████████████████████████████████████████████████| 7017/7017 [00:00<00:00, 12258.08it/s]\n",
      "Validation: 100%|███████████████████████████████████████████████████████████████| 3008/3008 [00:00<00:00, 70192.87it/s]\n"
     ]
    },
    {
     "name": "stdout",
     "output_type": "stream",
     "text": [
      "My device is cpu\n"
     ]
    },
    {
     "name": "stderr",
     "output_type": "stream",
     "text": [
      "Training Epoch:  20%|█████████████▌                                                      | 1/5 [00:09<00:39,  9.90s/it]"
     ]
    },
    {
     "name": "stdout",
     "output_type": "stream",
     "text": [
      "Epoch [1/5], Training Loss: 0.7067, Validation Loss: 0.6784, Validation Accuracy: 61.87%\n"
     ]
    },
    {
     "name": "stderr",
     "output_type": "stream",
     "text": [
      "Training Epoch:  40%|███████████████████████████▏                                        | 2/5 [00:22<00:34, 11.55s/it]"
     ]
    },
    {
     "name": "stdout",
     "output_type": "stream",
     "text": [
      "Epoch [2/5], Training Loss: 0.6714, Validation Loss: 0.6647, Validation Accuracy: 61.77%\n"
     ]
    },
    {
     "name": "stderr",
     "output_type": "stream",
     "text": [
      "Training Epoch:  60%|████████████████████████████████████████▊                           | 3/5 [00:31<00:20, 10.18s/it]"
     ]
    },
    {
     "name": "stdout",
     "output_type": "stream",
     "text": [
      "Epoch [3/5], Training Loss: 0.6594, Validation Loss: 0.6611, Validation Accuracy: 62.23%\n"
     ]
    },
    {
     "name": "stderr",
     "output_type": "stream",
     "text": [
      "Training Epoch:  80%|██████████████████████████████████████████████████████▍             | 4/5 [00:34<00:07,  7.45s/it]"
     ]
    },
    {
     "name": "stdout",
     "output_type": "stream",
     "text": [
      "Epoch [4/5], Training Loss: 0.6444, Validation Loss: 0.6185, Validation Accuracy: 64.10%\n"
     ]
    },
    {
     "name": "stderr",
     "output_type": "stream",
     "text": [
      "Training Epoch: 100%|████████████████████████████████████████████████████████████████████| 5/5 [00:37<00:00,  7.46s/it]"
     ]
    },
    {
     "name": "stdout",
     "output_type": "stream",
     "text": [
      "Epoch [5/5], Training Loss: 0.5828, Validation Loss: 0.5601, Validation Accuracy: 64.03%\n",
      "Reading the files.\n"
     ]
    },
    {
     "name": "stderr",
     "output_type": "stream",
     "text": [
      "\n",
      "Training: 100%|█████████████████████████████████████████████████████████████████| 7017/7017 [00:00<00:00, 12773.48it/s]\n",
      "Validation: 100%|███████████████████████████████████████████████████████████████| 3008/3008 [00:00<00:00, 22579.32it/s]\n"
     ]
    },
    {
     "name": "stdout",
     "output_type": "stream",
     "text": [
      "My device is cpu\n"
     ]
    },
    {
     "name": "stderr",
     "output_type": "stream",
     "text": [
      "Training Epoch:  20%|█████████████▌                                                      | 1/5 [00:57<03:51, 57.77s/it]"
     ]
    },
    {
     "name": "stdout",
     "output_type": "stream",
     "text": [
      "Epoch [1/5], Training Loss: 0.7345, Validation Loss: 0.6855, Validation Accuracy: 60.61%\n"
     ]
    },
    {
     "name": "stderr",
     "output_type": "stream",
     "text": [
      "Training Epoch:  40%|███████████████████████████▏                                        | 2/5 [02:07<03:14, 64.85s/it]"
     ]
    },
    {
     "name": "stdout",
     "output_type": "stream",
     "text": [
      "Epoch [2/5], Training Loss: 0.6810, Validation Loss: 0.6764, Validation Accuracy: 60.61%\n"
     ]
    },
    {
     "name": "stderr",
     "output_type": "stream",
     "text": [
      "Training Epoch:  60%|████████████████████████████████████████▊                           | 3/5 [03:27<02:23, 71.65s/it]"
     ]
    },
    {
     "name": "stdout",
     "output_type": "stream",
     "text": [
      "Epoch [3/5], Training Loss: 0.6738, Validation Loss: 0.6711, Validation Accuracy: 60.61%\n"
     ]
    },
    {
     "name": "stderr",
     "output_type": "stream",
     "text": [
      "Training Epoch:  80%|██████████████████████████████████████████████████████▍             | 4/5 [04:58<01:19, 79.18s/it]"
     ]
    },
    {
     "name": "stdout",
     "output_type": "stream",
     "text": [
      "Epoch [4/5], Training Loss: 0.6697, Validation Loss: 0.6709, Validation Accuracy: 60.61%\n"
     ]
    },
    {
     "name": "stderr",
     "output_type": "stream",
     "text": [
      "Training Epoch: 100%|████████████████████████████████████████████████████████████████████| 5/5 [06:27<00:00, 77.57s/it]"
     ]
    },
    {
     "name": "stdout",
     "output_type": "stream",
     "text": [
      "Epoch [5/5], Training Loss: 0.6709, Validation Loss: 0.6713, Validation Accuracy: 60.61%\n",
      "Reading the files.\n"
     ]
    },
    {
     "name": "stderr",
     "output_type": "stream",
     "text": [
      "\n",
      "Training: 100%|██████████████████████████████████████████████████████████████████| 7017/7017 [00:00<00:00, 8615.16it/s]\n",
      "Validation: 100%|███████████████████████████████████████████████████████████████| 3008/3008 [00:00<00:00, 17111.39it/s]\n"
     ]
    },
    {
     "name": "stdout",
     "output_type": "stream",
     "text": [
      "My device is cpu\n"
     ]
    },
    {
     "name": "stderr",
     "output_type": "stream",
     "text": [
      "Training Epoch:  20%|█████████████▍                                                     | 1/5 [02:14<08:57, 134.39s/it]"
     ]
    },
    {
     "name": "stdout",
     "output_type": "stream",
     "text": [
      "Epoch [1/5], Training Loss: 0.7461, Validation Loss: 0.6905, Validation Accuracy: 60.61%\n"
     ]
    },
    {
     "name": "stderr",
     "output_type": "stream",
     "text": [
      "Training Epoch:  40%|██████████████████████████▊                                        | 2/5 [04:12<06:14, 124.87s/it]"
     ]
    },
    {
     "name": "stdout",
     "output_type": "stream",
     "text": [
      "Epoch [2/5], Training Loss: 0.6795, Validation Loss: 0.6712, Validation Accuracy: 60.61%\n"
     ]
    },
    {
     "name": "stderr",
     "output_type": "stream",
     "text": [
      "Training Epoch:  60%|████████████████████████████████████████▏                          | 3/5 [05:42<03:38, 109.08s/it]"
     ]
    },
    {
     "name": "stdout",
     "output_type": "stream",
     "text": [
      "Epoch [3/5], Training Loss: 0.6704, Validation Loss: 0.6713, Validation Accuracy: 60.61%\n"
     ]
    },
    {
     "name": "stderr",
     "output_type": "stream",
     "text": [
      "Training Epoch:  80%|██████████████████████████████████████████████████████▍             | 4/5 [06:51<01:33, 93.27s/it]"
     ]
    },
    {
     "name": "stdout",
     "output_type": "stream",
     "text": [
      "Epoch [4/5], Training Loss: 0.6712, Validation Loss: 0.6706, Validation Accuracy: 60.61%\n"
     ]
    },
    {
     "name": "stderr",
     "output_type": "stream",
     "text": [
      "Training Epoch: 100%|████████████████████████████████████████████████████████████████████| 5/5 [08:04<00:00, 96.99s/it]"
     ]
    },
    {
     "name": "stdout",
     "output_type": "stream",
     "text": [
      "Epoch [5/5], Training Loss: 0.6707, Validation Loss: 0.6706, Validation Accuracy: 60.61%\n"
     ]
    },
    {
     "name": "stderr",
     "output_type": "stream",
     "text": [
      "\n"
     ]
    }
   ],
   "source": [
    "\n",
    "max_lengths = [50, 100, 200, 500, 1000]\n",
    "final_val_accuracies = []\n",
    "for max_length in max_lengths:\n",
    "    #Dataset Parameters\n",
    "    dataset_proportion = 0.001\n",
    "    val_split = 0.3\n",
    "    batch_size = 1024\n",
    "    num_workers = 0\n",
    "    dropout = 0.5\n",
    "    train_loader, val_loader = get_train_val_loaders_part2(dataset_proportion, val_split, batch_size, num_workers, max_length)\n",
    "    \n",
    "    \n",
    "    #Model Parameters\n",
    "    num_embeddings = len(unique_character_map) #for embedding layer\n",
    "    embedding_dim = 64 #I choose this - dimension for embedding layer\n",
    "    hidden_dim = 64 #Parameter - hidden dimensions\n",
    "    dropout = 0\n",
    "    n_lstm = 1\n",
    "    n_fc = 3\n",
    "    model = LSTM_Tune(num_embeddings = num_embeddings,\n",
    "                                             embedding_dim = embedding_dim,\n",
    "                                             hidden_dim = hidden_dim,\n",
    "                                             dropout = dropout, \n",
    "                                             num_lstm_layers = n_lstm, \n",
    "                                             num_fc_layers = n_fc)\n",
    "    \n",
    "    #Training Parameters\n",
    "    learning_rate = 0.02\n",
    "    L2 = 0#0.0001\n",
    "    num_epochs = 5\n",
    "    momentum1 = 0.9\n",
    "    momentum2 = 0.999\n",
    "    device = torch.device(\"cuda:0\" if torch.cuda.is_available() else \"cpu\")\n",
    "    print(f\"My device is {device}\")\n",
    "    model, history, final_val_accuracy = better_finetune(model,\n",
    "                                                         train_loader,\n",
    "                                                         val_loader,\n",
    "                                                         learning_rate=learning_rate,\n",
    "                                                         num_epochs=num_epochs,\n",
    "                                                         L2=L2,\n",
    "                                                         momentum1=momentum1,\n",
    "                                                         momentum2=momentum2,\n",
    "                                                         device=device)\n",
    "\n",
    "    final_val_accuracies.append(final_val_accuracy)"
   ]
  },
  {
   "cell_type": "code",
   "execution_count": 51,
   "id": "a5e07ec1",
   "metadata": {},
   "outputs": [
    {
     "name": "stderr",
     "output_type": "stream",
     "text": [
      "No artists with labels found to put in legend.  Note that artists whose label start with an underscore are ignored when legend() is called with no argument.\n"
     ]
    },
    {
     "data": {
      "image/png": "[encoded data removed]",
      "text/plain": [
       "<Figure size 1200x600 with 1 Axes>"
      ]
     },
     "metadata": {},
     "output_type": "display_data"
    }
   ],
   "source": [
    "def plot_final_accuracies(max_lengths, finals):\n",
    "    plt.figure(figsize=(12, 6))\n",
    "    plt.plot(max_lengths, finals, 'r')\n",
    "    plt.title('Final Val Accuracies vs. Padding (Max Sentence Length) for \"Best\" Model Found in Part 1')\n",
    "    plt.xlabel('Maximum Sentence Length, e.g. Amount of Padding')\n",
    "    plt.ylabel('Final Val Accuracy')\n",
    "    plt.legend()\n",
    "\n",
    "    plt.show()\n",
    "plot_final_accuracies(max_lengths, final_val_accuracies)"
   ]
  },
  {
   "cell_type": "markdown",
   "id": "78821b65",
   "metadata": {},
   "source": []
  },
  {
   "cell_type": "code",
   "execution_count": null,
   "id": "b91f92ee",
   "metadata": {},
   "outputs": [],
   "source": []
  },
  {
   "cell_type": "code",
   "execution_count": null,
   "id": "6fd1b711",
   "metadata": {},
   "outputs": [],
   "source": []
  },
  {
   "cell_type": "code",
   "execution_count": null,
   "id": "d09cc846",
   "metadata": {},
   "outputs": [],
   "source": []
  },
  {
   "cell_type": "code",
   "execution_count": null,
   "id": "332dddcf",
   "metadata": {},
   "outputs": [],
   "source": []
  },
  {
   "cell_type": "code",
   "execution_count": null,
   "id": "ac869202",
   "metadata": {},
   "outputs": [],
   "source": []
  },
  {
   "cell_type": "code",
   "execution_count": null,
   "id": "59bd9de0",
   "metadata": {},
   "outputs": [],
   "source": []
  },
  {
   "cell_type": "code",
   "execution_count": null,
   "id": "35402e49",
   "metadata": {},
   "outputs": [],
   "source": []
  },
  {
   "cell_type": "code",
   "execution_count": null,
   "id": "80e6a391",
   "metadata": {},
   "outputs": [],
   "source": []
  },
  {
   "cell_type": "code",
   "execution_count": null,
   "id": "f7b4459b",
   "metadata": {},
   "outputs": [],
   "source": []
  },
  {
   "cell_type": "code",
   "execution_count": null,
   "id": "995389d8",
   "metadata": {},
   "outputs": [],
   "source": []
  },
  {
   "cell_type": "code",
   "execution_count": null,
   "id": "1942e293",
   "metadata": {},
   "outputs": [],
   "source": []
  },
  {
   "cell_type": "code",
   "execution_count": null,
   "id": "aae147bd",
   "metadata": {},
   "outputs": [],
   "source": []
  },
  {
   "cell_type": "code",
   "execution_count": null,
   "id": "f7c9fcd3",
   "metadata": {},
   "outputs": [],
   "source": []
  },
  {
   "cell_type": "code",
   "execution_count": null,
   "id": "1adf8987",
   "metadata": {},
   "outputs": [],
   "source": []
  },
  {
   "cell_type": "code",
   "execution_count": null,
   "id": "16d61e7f",
   "metadata": {},
   "outputs": [],
   "source": []
  },
  {
   "cell_type": "code",
   "execution_count": null,
   "id": "7e108af8",
   "metadata": {},
   "outputs": [],
   "source": []
  },
  {
   "cell_type": "code",
   "execution_count": null,
   "id": "d063443c",
   "metadata": {},
   "outputs": [],
   "source": []
  },
  {
   "cell_type": "markdown",
   "id": "356b0e1e",
   "metadata": {},
   "source": []
  },
  {
   "cell_type": "code",
   "execution_count": null,
   "id": "9ff38a60",
   "metadata": {},
   "outputs": [],
   "source": []
  },
  {
   "cell_type": "code",
   "execution_count": null,
   "id": "f17a3d51",
   "metadata": {},
   "outputs": [],
   "source": []
  },
  {
   "cell_type": "code",
   "execution_count": null,
   "id": "d64c19ac",
   "metadata": {},
   "outputs": [],
   "source": []
  },
  {
   "cell_type": "code",
   "execution_count": null,
   "id": "06f32d8d",
   "metadata": {},
   "outputs": [],
   "source": []
  },
  {
   "cell_type": "code",
   "execution_count": null,
   "id": "ec1e0604",
   "metadata": {},
   "outputs": [],
   "source": []
  },
  {
   "cell_type": "code",
   "execution_count": null,
   "id": "3e92dfc3",
   "metadata": {},
   "outputs": [],
   "source": []
  },
  {
   "cell_type": "code",
   "execution_count": null,
   "id": "7e7a03f6",
   "metadata": {},
   "outputs": [],
   "source": []
  },
  {
   "cell_type": "code",
   "execution_count": null,
   "id": "ad90fa2b",
   "metadata": {},
   "outputs": [],
   "source": []
  },
  {
   "cell_type": "code",
   "execution_count": null,
   "id": "8b545d83",
   "metadata": {},
   "outputs": [],
   "source": []
  },
  {
   "cell_type": "code",
   "execution_count": null,
   "id": "b65c34f5",
   "metadata": {},
   "outputs": [],
   "source": []
  },
  {
   "cell_type": "code",
   "execution_count": null,
   "id": "79ffda3e",
   "metadata": {},
   "outputs": [],
   "source": []
  },
  {
   "cell_type": "markdown",
   "id": "82122b22",
   "metadata": {},
   "source": [
    "Running List of Resources Used: \n",
    "\n",
    "\n",
    "https://stackoverflow.com/questions/20935151/how-to-encode-and-decode-from-spanish-in-python\n",
    "\n",
    "https://datagy.io/python-remove-punctuation-from-string/\"\n",
    "\n",
    "https://stackoverflow.com/questions/2081836/how-to-read-specific-lines-from-a-file-by-line-number\n",
    "\n",
    "https://docs.python.org/3/library/string.html\n",
    "\n",
    "https://blog.salesforceairesearch.com/the-wikitext-long-term-dependency-language-modeling-dataset/#download\n",
    "\n",
    "https://stackoverflow.com/questions/36303919/what-encoding-does-open-use-by-default\n",
    "\n",
    "https://stackoverflow.com/questions/53628622/loss-function-its-inputs-for-binary-classification-pytorch\n",
    "\n",
    "https://pytorch.org/tutorials/beginner/data_loading_tutorial.html\n",
    "\n",
    "https://pytorch.org/tutorials/recipes/recipes/loading_data_recipe.html\n",
    "\n",
    "https://pytorch.org/tutorials/beginner/basics/data_tutorial.html?ref=mlnuggets.digitalpress.blog\n",
    "\n",
    "https://stackoverflow.com/questions/59520620/creating-lstm-model-with-pytorch\n",
    "\n",
    "https://pytorch.org/docs/stable/generated/torch.nn.LSTM.html\n",
    "\n",
    "https://pytorch.org/tutorials/beginner/nlp/sequence_models_tutorial.html\n",
    "\n",
    "https://www.deeplearningwizard.com/deep_learning/practical_pytorch/pytorch_lstm_neuralnetwork/\n",
    "\n",
    "https://stackoverflow.com/questions/59520620/creating-lstm-model-with-pytorch\n",
    "\n",
    "https://pytorch.org/docs/stable/generated/torch.nn.Embedding.html"
   ]
  },
  {
   "cell_type": "code",
   "execution_count": null,
   "id": "e88a3e58",
   "metadata": {},
   "outputs": [],
   "source": []
  }
 ],
 "metadata": {
  "kernelspec": {
   "display_name": "Python 3 (ipykernel)",
   "language": "python",
   "name": "python3"
  },
  "language_info": {
   "codemirror_mode": {
    "name": "ipython",
    "version": 3
   },
   "file_extension": ".py",
   "mimetype": "text/x-python",
   "name": "python",
   "nbconvert_exporter": "python",
   "pygments_lexer": "ipython3",
   "version": "3.11.5"
  }
 },
 "nbformat": 4,
 "nbformat_minor": 5
}
